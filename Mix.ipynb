{
 "cells": [
  {
   "cell_type": "code",
   "execution_count": 18,
   "metadata": {},
   "outputs": [],
   "source": [
    "# On importe les librairies\n",
    "import numpy as np # calcul matriciel\n",
    "import pandas as pd # structure des donnees\n",
    "\n",
    "# Chemin vers les jeux de donnees en format csv\n",
    "pathRandomForest = \"./randomforest-0.425.csv\"\n",
    "pathPCA = \"./pca-0.543.csv\"\n",
    "pathRidge = \"./ridge-0.55.csv\"\n",
    "\n",
    "# On importe les jeux de donnees\n",
    "df_RF = pd.read_csv(pathRandomForest, sep=',', index_col=0)\n",
    "df_PCA = pd.read_csv(pathPCA, sep=',', index_col=0)\n",
    "df_Ridge = pd.read_csv(pathRidge, sep=',', index_col=0)"
   ]
  },
  {
   "cell_type": "code",
   "execution_count": 19,
   "metadata": {},
   "outputs": [],
   "source": [
    "rmse_RF = 1/0.425\n",
    "rmse_PCA = 1/0.543\n",
    "rmse_Ridge = 1/0.55\n",
    "rmse_Total = rmse_RF + rmse_PCA + rmse_Ridge"
   ]
  },
  {
   "cell_type": "code",
   "execution_count": 20,
   "metadata": {},
   "outputs": [],
   "source": [
    "newdf = (df_RF*(0.80) + df_PCA*(0.12) + df_Ridge*(0.08))"
   ]
  },
  {
   "cell_type": "code",
   "execution_count": 21,
   "metadata": {},
   "outputs": [],
   "source": [
    "# On sauvegarde nos predictions\n",
    "newdf.to_csv(\"test_final.csv\")"
   ]
  },
  {
   "cell_type": "code",
   "execution_count": null,
   "metadata": {},
   "outputs": [],
   "source": []
  }
 ],
 "metadata": {
  "kernelspec": {
   "display_name": "Python 3",
   "language": "python",
   "name": "python3"
  },
  "language_info": {
   "codemirror_mode": {
    "name": "ipython",
    "version": 3
   },
   "file_extension": ".py",
   "mimetype": "text/x-python",
   "name": "python",
   "nbconvert_exporter": "python",
   "pygments_lexer": "ipython3",
   "version": "3.6.5"
  }
 },
 "nbformat": 4,
 "nbformat_minor": 2
}
