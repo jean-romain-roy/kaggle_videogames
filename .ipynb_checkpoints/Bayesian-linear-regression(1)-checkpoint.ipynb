{
 "cells": [
  {
   "cell_type": "markdown",
   "metadata": {},
   "source": [
    "## Base de données"
   ]
  },
  {
   "cell_type": "markdown",
   "metadata": {},
   "source": [
    "\n",
    "Le but de se projet est de concevoir une modele statistique qui predit le succes d'un jeu video (i.e le nombre de vente) en fonction des variables explicatives suivantes :\n",
    "\n",
    "1. Platform : Console sur laquelle le jeu fonctionne\n",
    "2. Year of release : Année de sortie du jeu\n",
    "3. Genre\n",
    "4. Publisher\n",
    "5. JP_sales : Nombre de ventes du jeu au Japon en millions d’unités\n",
    "6. Other sales : Nombre de ventes du jeu ailleurs dans le monde : Afrique, Asie sans le Japon, Europe sans l’Union Européenne et Amérique du Sud en millions d’unités\n",
    "7. Critic_score : Score donné par Metacritic\n",
    "8. Critic_count : Nombre de critiques prises en compte pour estimer le Critic_score\n",
    "9. User_Score : Score donné par les usagers de Metacritic\n",
    "10. User_Count : Nombre d’usagers considérés pour estimer le User_Score\n",
    "11. Developer : Compagnie créatrice du jeu\n",
    "12. Rating : Classement ESRB (Entertainment Software Rating Board) ie à qui s’addresse le jeu (tout public, majeur, adolescents, etc)\n",
    "\n",
    "On utilisera la base de donnée train3.csv disponible sur le projet kaggle pour effectuer toute notre analyse et ensuite tester sur test3.csv"
   ]
  },
  {
   "cell_type": "markdown",
   "metadata": {},
   "source": [
    "## Importation des libraires dont on aura besoin"
   ]
  },
  {
   "cell_type": "code",
   "execution_count": 1,
   "metadata": {},
   "outputs": [],
   "source": [
    "# On importe Pandas et numpy for la manipulation des données\n",
    "import pandas as pd\n",
    "import numpy as np\n",
    "np.random.seed(19)\n",
    "\n",
    " \n",
    "# on importe Matplotlib et seaborn pour tracer des graphiques\n",
    "import matplotlib.pyplot as plt\n",
    "%matplotlib inline\n",
    "\n",
    "import matplotlib\n",
    "matplotlib.rcParams['font.size'] = 16\n",
    "matplotlib.rcParams['figure.figsize'] = (9, 9)\n",
    "\n",
    "import seaborn as sns\n",
    "\n",
    "from IPython.core.pylabtools import figsize\n",
    "\n",
    "# des fonctions statistiques qui vont nous aider depuis Scipy\n",
    "from scipy.stats import percentileofscore\n",
    "from scipy import stats"
   ]
  },
  {
   "cell_type": "code",
   "execution_count": 2,
   "metadata": {},
   "outputs": [],
   "source": [
    "# faire des comparaisons avec différents modèles\n",
    "from sklearn.linear_model import LinearRegression, LogisticRegression\n",
    "from sklearn.linear_model import ElasticNet\n",
    "from sklearn.ensemble import RandomForestRegressor\n",
    "from sklearn.ensemble import ExtraTreesRegressor\n",
    "from sklearn.ensemble import GradientBoostingRegressor\n",
    "from sklearn.svm import SVR\n",
    "\n",
    "# Diviser nos données en entraînement et test\n",
    "from sklearn.model_selection import train_test_split\n",
    "from sklearn.preprocessing import MinMaxScaler\n",
    "\n",
    "# différents métriques pour nos modèles\n",
    "from sklearn.metrics import mean_squared_error, mean_absolute_error, median_absolute_error\n",
    "\n",
    "# Pour les distributions statistiques\n",
    "import scipy"
   ]
  },
  {
   "cell_type": "code",
   "execution_count": 3,
   "metadata": {},
   "outputs": [
    {
     "name": "stderr",
     "output_type": "stream",
     "text": [
      "WARNING (theano.tensor.blas): Using NumPy C-API based implementation for BLAS functions.\n"
     ]
    }
   ],
   "source": [
    "# librairie python pour inférence bayésienne\n",
    "import pymc3 as pm"
   ]
  },
  {
   "cell_type": "markdown",
   "metadata": {},
   "source": [
    "## Lecture de la base de données"
   ]
  },
  {
   "cell_type": "code",
   "execution_count": 217,
   "metadata": {},
   "outputs": [
    {
     "data": {
      "text/html": [
       "<div>\n",
       "<style scoped>\n",
       "    .dataframe tbody tr th:only-of-type {\n",
       "        vertical-align: middle;\n",
       "    }\n",
       "\n",
       "    .dataframe tbody tr th {\n",
       "        vertical-align: top;\n",
       "    }\n",
       "\n",
       "    .dataframe thead th {\n",
       "        text-align: right;\n",
       "    }\n",
       "</style>\n",
       "<table border=\"1\" class=\"dataframe\">\n",
       "  <thead>\n",
       "    <tr style=\"text-align: right;\">\n",
       "      <th></th>\n",
       "      <th>Platform</th>\n",
       "      <th>Year_of_Release</th>\n",
       "      <th>Genre</th>\n",
       "      <th>Publisher</th>\n",
       "      <th>JP_Sales</th>\n",
       "      <th>Other_Sales</th>\n",
       "      <th>Critic_Score</th>\n",
       "      <th>Critic_Count</th>\n",
       "      <th>User_Score</th>\n",
       "      <th>User_Count</th>\n",
       "      <th>Rating</th>\n",
       "      <th>NA_Sales</th>\n",
       "      <th>Global_Sales</th>\n",
       "    </tr>\n",
       "    <tr>\n",
       "      <th>ID</th>\n",
       "      <th></th>\n",
       "      <th></th>\n",
       "      <th></th>\n",
       "      <th></th>\n",
       "      <th></th>\n",
       "      <th></th>\n",
       "      <th></th>\n",
       "      <th></th>\n",
       "      <th></th>\n",
       "      <th></th>\n",
       "      <th></th>\n",
       "      <th></th>\n",
       "      <th></th>\n",
       "    </tr>\n",
       "  </thead>\n",
       "  <tbody>\n",
       "    <tr>\n",
       "      <th>1</th>\n",
       "      <td>DS</td>\n",
       "      <td>2004.0</td>\n",
       "      <td>Puzzle</td>\n",
       "      <td>Ignition Entertainment</td>\n",
       "      <td>0.050524</td>\n",
       "      <td>0.010024</td>\n",
       "      <td>74.0</td>\n",
       "      <td>40.0</td>\n",
       "      <td>7.5</td>\n",
       "      <td>13.0</td>\n",
       "      <td>E</td>\n",
       "      <td>0.101432</td>\n",
       "      <td>0.172605</td>\n",
       "    </tr>\n",
       "    <tr>\n",
       "      <th>2</th>\n",
       "      <td>DS</td>\n",
       "      <td>2010.0</td>\n",
       "      <td>Action</td>\n",
       "      <td>Namco Bandai Games</td>\n",
       "      <td>0.039211</td>\n",
       "      <td>0.001791</td>\n",
       "      <td>NaN</td>\n",
       "      <td>NaN</td>\n",
       "      <td>NaN</td>\n",
       "      <td>NaN</td>\n",
       "      <td>NaN</td>\n",
       "      <td>0.000440</td>\n",
       "      <td>0.043251</td>\n",
       "    </tr>\n",
       "    <tr>\n",
       "      <th>3</th>\n",
       "      <td>DS</td>\n",
       "      <td>2006.0</td>\n",
       "      <td>Sports</td>\n",
       "      <td>System 3 Arcade Software</td>\n",
       "      <td>0.000374</td>\n",
       "      <td>0.001797</td>\n",
       "      <td>NaN</td>\n",
       "      <td>NaN</td>\n",
       "      <td>NaN</td>\n",
       "      <td>NaN</td>\n",
       "      <td>E</td>\n",
       "      <td>0.030829</td>\n",
       "      <td>0.041271</td>\n",
       "    </tr>\n",
       "    <tr>\n",
       "      <th>4</th>\n",
       "      <td>PS2</td>\n",
       "      <td>2002.0</td>\n",
       "      <td>Platform</td>\n",
       "      <td>THQ</td>\n",
       "      <td>0.001382</td>\n",
       "      <td>0.140010</td>\n",
       "      <td>NaN</td>\n",
       "      <td>NaN</td>\n",
       "      <td>6.6</td>\n",
       "      <td>41.0</td>\n",
       "      <td>E</td>\n",
       "      <td>0.528330</td>\n",
       "      <td>1.080821</td>\n",
       "    </tr>\n",
       "    <tr>\n",
       "      <th>5</th>\n",
       "      <td>PSV</td>\n",
       "      <td>2014.0</td>\n",
       "      <td>Action</td>\n",
       "      <td>Tecmo Koei</td>\n",
       "      <td>0.069422</td>\n",
       "      <td>0.009535</td>\n",
       "      <td>67.0</td>\n",
       "      <td>19.0</td>\n",
       "      <td>7.5</td>\n",
       "      <td>61.0</td>\n",
       "      <td>M</td>\n",
       "      <td>0.020629</td>\n",
       "      <td>0.131074</td>\n",
       "    </tr>\n",
       "  </tbody>\n",
       "</table>\n",
       "</div>"
      ],
      "text/plain": [
       "   Platform  Year_of_Release     Genre                 Publisher  JP_Sales  \\\n",
       "ID                                                                           \n",
       "1        DS           2004.0    Puzzle    Ignition Entertainment  0.050524   \n",
       "2        DS           2010.0    Action        Namco Bandai Games  0.039211   \n",
       "3        DS           2006.0    Sports  System 3 Arcade Software  0.000374   \n",
       "4       PS2           2002.0  Platform                       THQ  0.001382   \n",
       "5       PSV           2014.0    Action                Tecmo Koei  0.069422   \n",
       "\n",
       "    Other_Sales  Critic_Score  Critic_Count  User_Score  User_Count Rating  \\\n",
       "ID                                                                           \n",
       "1      0.010024          74.0          40.0         7.5        13.0      E   \n",
       "2      0.001791           NaN           NaN         NaN         NaN    NaN   \n",
       "3      0.001797           NaN           NaN         NaN         NaN      E   \n",
       "4      0.140010           NaN           NaN         6.6        41.0      E   \n",
       "5      0.009535          67.0          19.0         7.5        61.0      M   \n",
       "\n",
       "    NA_Sales  Global_Sales  \n",
       "ID                          \n",
       "1   0.101432      0.172605  \n",
       "2   0.000440      0.043251  \n",
       "3   0.030829      0.041271  \n",
       "4   0.528330      1.080821  \n",
       "5   0.020629      0.131074  "
      ]
     },
     "execution_count": 217,
     "metadata": {},
     "output_type": "execute_result"
    }
   ],
   "source": [
    "#Path du fichier de la base de données\n",
    "pathTest = \"kaggle_videogames/train3.csv\"\n",
    "\n",
    "df = pd.read_csv(pathTest, sep=',', index_col=0)\n",
    "\n",
    "# On enleve la colonne Name qui ne sert pas a l'analyse\n",
    "df = df.drop(['Name','Developer'],axis=1)\n",
    "\n",
    "df.head()"
   ]
  },
  {
   "cell_type": "markdown",
   "metadata": {},
   "source": [
    "## Prétraitement de la base de données"
   ]
  },
  {
   "cell_type": "code",
   "execution_count": 209,
   "metadata": {},
   "outputs": [],
   "source": [
    "# traitement des données manquantes\n",
    "\n",
    "strat_imputation = [\"drop_na\", \"mean\", \"median\", \"most_frequent\", \"hot_deck\", \"cold_deck\"]\n",
    "\n",
    "def impute_data(data, nom_colonne, method = \"drop_na\"):\n",
    "    \"\"\"\n",
    "    On remplace les valeurs manquantes dans la colonne sélectionnée suivant l'une des stratégie ci-dessous:\n",
    "    - drop_na :  On supprime simplement les lignes avec des valeurs manquantes\n",
    "    - moyenne/médiane/mode : on remplace les valeurs manquantes par la moyenne, médiane ou mode de la colonne respectivement\n",
    "    - hot_deck : on cherche des données avec des caractéristiques similaires à la ligne avec la valeur manquante et\n",
    "                  on lui donne une valeur aléatoire de celles-ci\n",
    "    - cold_deck : on cherche des données avec des caractéristiques similaires à la ligne avec la valeur manquante et\n",
    "                  on lui donne une valeur particulière parmi celles-ci\n",
    "\n",
    "    \n",
    "    retourne la base de données imputée\n",
    "    \"\"\"\n",
    "    \n",
    "    if method == \"drop_na\":\n",
    "        return data.dropna(subset = [nom_colonne])\n",
    "    \n",
    "    if method == \"mean\" or method == \"median\" or method == \"most_frequent\":\n",
    "        from sklearn.preprocessing import Imputer\n",
    "        imputer = Imputer(strategy = method)\n",
    "        imputed = data.copy()\n",
    "        imputed[nom_colonne] = imputer.fit_transform(data[[nom_colonne]])\n",
    "        return imputed\n",
    "    \n",
    "    if method == \"hot_deck\" :\n",
    "        #on itère sur la colonne, et si on trouve une valeur manquante, on cherche toutes les observations avec les\n",
    "        # ... mêmes valeurs de platform et genre ainsi qu'une valeur proche de other_sales. Puis on choisis une valeur\n",
    "        # ... aléatoire parmi celles-ci pour imputer notre valeur manquante.\n",
    "        imputed = data.copy()\n",
    "        for i in range(1,len(imputed.values)):\n",
    "            try:\n",
    "                if np.isnan(imputed.at[i, nom_colonne]):\n",
    "                    platform = imputed.at[i, 'Platform']\n",
    "                    genre = imputed.at[i, 'Genre']\n",
    "                    other_sales = imputed.at[i, 'Other_Sales']\n",
    "                    A = imputed.loc[(imputed[nom_colonne].notna()) & (imputed['Platform'] == platform) & (imputed['Genre'] == genre) & (imputed['Other_Sales'] < other_sales + 0.1) & (imputed['Other_Sales'] > other_sales - 0.1)]\n",
    "                    if len(A) == 0:\n",
    "                        continue\n",
    "                    else:\n",
    "                        imputed.at[i, nom_colonne] = np.random.choice(A[nom_colonne])\n",
    "            except:\n",
    "                continue\n",
    "                \n",
    "        #Quand on ne trouve pas d'observations avec lesquelles comparer, on les impute par la médiane\n",
    "        if nom_colonne == 'Rating':\n",
    "            clean_data['Rating'] = clean_data['Rating'].fillna(clean_data['Rating'].value_counts().index[0])\n",
    "        else:\n",
    "            imputed = impute_data(imputed, nom_colonne, 'most_frequent')\n",
    "        return imputed\n",
    "    \n",
    "    if method == \"cold_deck\":\n",
    "        #même méthode que pour le hot_deck, sauf que cette fois_ci on ne choisis pas aléatoirement pour ne pas\n",
    "        #... ajouter de la variabilité au modèle. On choisit de manière déterministe, dans notre cas la première\n",
    "        imputed = data.copy()\n",
    "        for i in range(1,len(imputed.values)):\n",
    "            if np.isnan(imputed.at[i, nom_colonne]):\n",
    "                platform = imputed.at[i, 'Platform']\n",
    "                genre = imputed.at[i, 'Genre']\n",
    "                other_sales = imputed.at[i, 'Other_Sales']\n",
    "                A = imputed.loc[(imputed[nom_colonne].notna()) & (imputed['Platform'] == platform) & (imputed['Genre'] == genre) & (imputed['other_sales'] < other_sales + 0.05) & (imputed['other_sales'] > other_sales - 0.05)]\n",
    "                if len(A) == 0:\n",
    "                    continue\n",
    "                else:\n",
    "                    imputed.at[i, nom_colonne] = A.values[0]\n",
    "        if nom_colonne == 'Rating':\n",
    "            clean_data['Rating'] = clean_data['Rating'].fillna(clean_data['Rating'].value_counts().index[0])\n",
    "        else:\n",
    "            imputed = impute_data(imputed, nom_colonne, 'most_frequent')\n",
    "        return imputed\n",
    "    \n",
    "    \n",
    "        \n",
    "        \n",
    "        "
   ]
  },
  {
   "cell_type": "code",
   "execution_count": 210,
   "metadata": {},
   "outputs": [
    {
     "name": "stderr",
     "output_type": "stream",
     "text": [
      "/home/iryasu/anaconda3/lib/python3.6/site-packages/sklearn/utils/deprecation.py:58: DeprecationWarning: Class Imputer is deprecated; Imputer was deprecated in version 0.20 and will be removed in 0.22. Import impute.SimpleImputer from sklearn instead.\n",
      "  warnings.warn(msg, category=DeprecationWarning)\n",
      "/home/iryasu/anaconda3/lib/python3.6/site-packages/sklearn/utils/deprecation.py:58: DeprecationWarning: Class Imputer is deprecated; Imputer was deprecated in version 0.20 and will be removed in 0.22. Import impute.SimpleImputer from sklearn instead.\n",
      "  warnings.warn(msg, category=DeprecationWarning)\n",
      "/home/iryasu/anaconda3/lib/python3.6/site-packages/sklearn/utils/deprecation.py:58: DeprecationWarning: Class Imputer is deprecated; Imputer was deprecated in version 0.20 and will be removed in 0.22. Import impute.SimpleImputer from sklearn instead.\n",
      "  warnings.warn(msg, category=DeprecationWarning)\n",
      "/home/iryasu/anaconda3/lib/python3.6/site-packages/sklearn/utils/deprecation.py:58: DeprecationWarning: Class Imputer is deprecated; Imputer was deprecated in version 0.20 and will be removed in 0.22. Import impute.SimpleImputer from sklearn instead.\n",
      "  warnings.warn(msg, category=DeprecationWarning)\n",
      "/home/iryasu/anaconda3/lib/python3.6/site-packages/sklearn/utils/deprecation.py:58: DeprecationWarning: Class Imputer is deprecated; Imputer was deprecated in version 0.20 and will be removed in 0.22. Import impute.SimpleImputer from sklearn instead.\n",
      "  warnings.warn(msg, category=DeprecationWarning)\n",
      "/home/iryasu/anaconda3/lib/python3.6/site-packages/sklearn/utils/deprecation.py:58: DeprecationWarning: Class Imputer is deprecated; Imputer was deprecated in version 0.20 and will be removed in 0.22. Import impute.SimpleImputer from sklearn instead.\n",
      "  warnings.warn(msg, category=DeprecationWarning)\n"
     ]
    },
    {
     "ename": "ValueError",
     "evalue": "could not convert string to float: 'E'",
     "output_type": "error",
     "traceback": [
      "\u001b[0;31m---------------------------------------------------------------------------\u001b[0m",
      "\u001b[0;31mValueError\u001b[0m                                Traceback (most recent call last)",
      "\u001b[0;32m<ipython-input-210-3b0d47359f94>\u001b[0m in \u001b[0;36m<module>\u001b[0;34m\u001b[0m\n\u001b[1;32m      3\u001b[0m \u001b[0mmissing_labels\u001b[0m \u001b[0;34m=\u001b[0m \u001b[0;34m[\u001b[0m\u001b[0;34m'Year_of_Release'\u001b[0m\u001b[0;34m,\u001b[0m \u001b[0;34m'Critic_Score'\u001b[0m\u001b[0;34m,\u001b[0m \u001b[0;34m'Critic_Count'\u001b[0m\u001b[0;34m,\u001b[0m \u001b[0;34m'User_Score'\u001b[0m\u001b[0;34m,\u001b[0m \u001b[0;34m'User_Count'\u001b[0m\u001b[0;34m,\u001b[0m \u001b[0;34m'Rating'\u001b[0m\u001b[0;34m]\u001b[0m\u001b[0;34m\u001b[0m\u001b[0m\n\u001b[1;32m      4\u001b[0m \u001b[0;32mfor\u001b[0m \u001b[0me\u001b[0m \u001b[0;32min\u001b[0m \u001b[0mmissing_labels\u001b[0m\u001b[0;34m:\u001b[0m\u001b[0;34m\u001b[0m\u001b[0m\n\u001b[0;32m----> 5\u001b[0;31m     \u001b[0mclean_data\u001b[0m \u001b[0;34m=\u001b[0m \u001b[0mimpute_data\u001b[0m\u001b[0;34m(\u001b[0m\u001b[0mclean_data\u001b[0m\u001b[0;34m,\u001b[0m \u001b[0me\u001b[0m\u001b[0;34m,\u001b[0m \u001b[0;34m'hot_deck'\u001b[0m\u001b[0;34m)\u001b[0m\u001b[0;34m\u001b[0m\u001b[0m\n\u001b[0m\u001b[1;32m      6\u001b[0m \u001b[0;34m\u001b[0m\u001b[0m\n\u001b[1;32m      7\u001b[0m \u001b[0mclean_data\u001b[0m\u001b[0;34m.\u001b[0m\u001b[0mhead\u001b[0m\u001b[0;34m(\u001b[0m\u001b[0;34m)\u001b[0m\u001b[0;34m\u001b[0m\u001b[0m\n",
      "\u001b[0;32m<ipython-input-209-ab877d4b6df8>\u001b[0m in \u001b[0;36mimpute_data\u001b[0;34m(data, nom_colonne, method)\u001b[0m\n\u001b[1;32m     47\u001b[0m \u001b[0;34m\u001b[0m\u001b[0m\n\u001b[1;32m     48\u001b[0m         \u001b[0;31m#Quand on ne trouve pas d'observations avec lesquelles comparer, on les impute par la médiane\u001b[0m\u001b[0;34m\u001b[0m\u001b[0;34m\u001b[0m\u001b[0m\n\u001b[0;32m---> 49\u001b[0;31m         \u001b[0mimputed\u001b[0m \u001b[0;34m=\u001b[0m \u001b[0mimpute_data\u001b[0m\u001b[0;34m(\u001b[0m\u001b[0mimputed\u001b[0m\u001b[0;34m,\u001b[0m \u001b[0mnom_colonne\u001b[0m\u001b[0;34m,\u001b[0m \u001b[0;34m'most_frequent'\u001b[0m\u001b[0;34m)\u001b[0m\u001b[0;34m\u001b[0m\u001b[0m\n\u001b[0m\u001b[1;32m     50\u001b[0m         \u001b[0;32mreturn\u001b[0m \u001b[0mimputed\u001b[0m\u001b[0;34m\u001b[0m\u001b[0m\n\u001b[1;32m     51\u001b[0m \u001b[0;34m\u001b[0m\u001b[0m\n",
      "\u001b[0;32m<ipython-input-209-ab877d4b6df8>\u001b[0m in \u001b[0;36mimpute_data\u001b[0;34m(data, nom_colonne, method)\u001b[0m\n\u001b[1;32m     24\u001b[0m         \u001b[0mimputer\u001b[0m \u001b[0;34m=\u001b[0m \u001b[0mImputer\u001b[0m\u001b[0;34m(\u001b[0m\u001b[0mstrategy\u001b[0m \u001b[0;34m=\u001b[0m \u001b[0mmethod\u001b[0m\u001b[0;34m)\u001b[0m\u001b[0;34m\u001b[0m\u001b[0m\n\u001b[1;32m     25\u001b[0m         \u001b[0mimputed\u001b[0m \u001b[0;34m=\u001b[0m \u001b[0mdata\u001b[0m\u001b[0;34m.\u001b[0m\u001b[0mcopy\u001b[0m\u001b[0;34m(\u001b[0m\u001b[0;34m)\u001b[0m\u001b[0;34m\u001b[0m\u001b[0m\n\u001b[0;32m---> 26\u001b[0;31m         \u001b[0mimputed\u001b[0m\u001b[0;34m[\u001b[0m\u001b[0mnom_colonne\u001b[0m\u001b[0;34m]\u001b[0m \u001b[0;34m=\u001b[0m \u001b[0mimputer\u001b[0m\u001b[0;34m.\u001b[0m\u001b[0mfit_transform\u001b[0m\u001b[0;34m(\u001b[0m\u001b[0mdata\u001b[0m\u001b[0;34m[\u001b[0m\u001b[0;34m[\u001b[0m\u001b[0mnom_colonne\u001b[0m\u001b[0;34m]\u001b[0m\u001b[0;34m]\u001b[0m\u001b[0;34m)\u001b[0m\u001b[0;34m\u001b[0m\u001b[0m\n\u001b[0m\u001b[1;32m     27\u001b[0m         \u001b[0;32mreturn\u001b[0m \u001b[0mimputed\u001b[0m\u001b[0;34m\u001b[0m\u001b[0m\n\u001b[1;32m     28\u001b[0m \u001b[0;34m\u001b[0m\u001b[0m\n",
      "\u001b[0;32m~/anaconda3/lib/python3.6/site-packages/sklearn/base.py\u001b[0m in \u001b[0;36mfit_transform\u001b[0;34m(self, X, y, **fit_params)\u001b[0m\n\u001b[1;32m    460\u001b[0m         \u001b[0;32mif\u001b[0m \u001b[0my\u001b[0m \u001b[0;32mis\u001b[0m \u001b[0;32mNone\u001b[0m\u001b[0;34m:\u001b[0m\u001b[0;34m\u001b[0m\u001b[0m\n\u001b[1;32m    461\u001b[0m             \u001b[0;31m# fit method of arity 1 (unsupervised transformation)\u001b[0m\u001b[0;34m\u001b[0m\u001b[0;34m\u001b[0m\u001b[0m\n\u001b[0;32m--> 462\u001b[0;31m             \u001b[0;32mreturn\u001b[0m \u001b[0mself\u001b[0m\u001b[0;34m.\u001b[0m\u001b[0mfit\u001b[0m\u001b[0;34m(\u001b[0m\u001b[0mX\u001b[0m\u001b[0;34m,\u001b[0m \u001b[0;34m**\u001b[0m\u001b[0mfit_params\u001b[0m\u001b[0;34m)\u001b[0m\u001b[0;34m.\u001b[0m\u001b[0mtransform\u001b[0m\u001b[0;34m(\u001b[0m\u001b[0mX\u001b[0m\u001b[0;34m)\u001b[0m\u001b[0;34m\u001b[0m\u001b[0m\n\u001b[0m\u001b[1;32m    463\u001b[0m         \u001b[0;32melse\u001b[0m\u001b[0;34m:\u001b[0m\u001b[0;34m\u001b[0m\u001b[0m\n\u001b[1;32m    464\u001b[0m             \u001b[0;31m# fit method of arity 2 (supervised transformation)\u001b[0m\u001b[0;34m\u001b[0m\u001b[0;34m\u001b[0m\u001b[0m\n",
      "\u001b[0;32m~/anaconda3/lib/python3.6/site-packages/sklearn/preprocessing/imputation.py\u001b[0m in \u001b[0;36mfit\u001b[0;34m(self, X, y)\u001b[0m\n\u001b[1;32m    156\u001b[0m         \u001b[0;32mif\u001b[0m \u001b[0mself\u001b[0m\u001b[0;34m.\u001b[0m\u001b[0maxis\u001b[0m \u001b[0;34m==\u001b[0m \u001b[0;36m0\u001b[0m\u001b[0;34m:\u001b[0m\u001b[0;34m\u001b[0m\u001b[0m\n\u001b[1;32m    157\u001b[0m             X = check_array(X, accept_sparse='csc', dtype=np.float64,\n\u001b[0;32m--> 158\u001b[0;31m                             force_all_finite=False)\n\u001b[0m\u001b[1;32m    159\u001b[0m \u001b[0;34m\u001b[0m\u001b[0m\n\u001b[1;32m    160\u001b[0m             \u001b[0;32mif\u001b[0m \u001b[0msparse\u001b[0m\u001b[0;34m.\u001b[0m\u001b[0missparse\u001b[0m\u001b[0;34m(\u001b[0m\u001b[0mX\u001b[0m\u001b[0;34m)\u001b[0m\u001b[0;34m:\u001b[0m\u001b[0;34m\u001b[0m\u001b[0m\n",
      "\u001b[0;32m~/anaconda3/lib/python3.6/site-packages/sklearn/utils/validation.py\u001b[0m in \u001b[0;36mcheck_array\u001b[0;34m(array, accept_sparse, accept_large_sparse, dtype, order, copy, force_all_finite, ensure_2d, allow_nd, ensure_min_samples, ensure_min_features, warn_on_dtype, estimator)\u001b[0m\n\u001b[1;32m    520\u001b[0m             \u001b[0;32mtry\u001b[0m\u001b[0;34m:\u001b[0m\u001b[0;34m\u001b[0m\u001b[0m\n\u001b[1;32m    521\u001b[0m                 \u001b[0mwarnings\u001b[0m\u001b[0;34m.\u001b[0m\u001b[0msimplefilter\u001b[0m\u001b[0;34m(\u001b[0m\u001b[0;34m'error'\u001b[0m\u001b[0;34m,\u001b[0m \u001b[0mComplexWarning\u001b[0m\u001b[0;34m)\u001b[0m\u001b[0;34m\u001b[0m\u001b[0m\n\u001b[0;32m--> 522\u001b[0;31m                 \u001b[0marray\u001b[0m \u001b[0;34m=\u001b[0m \u001b[0mnp\u001b[0m\u001b[0;34m.\u001b[0m\u001b[0masarray\u001b[0m\u001b[0;34m(\u001b[0m\u001b[0marray\u001b[0m\u001b[0;34m,\u001b[0m \u001b[0mdtype\u001b[0m\u001b[0;34m=\u001b[0m\u001b[0mdtype\u001b[0m\u001b[0;34m,\u001b[0m \u001b[0morder\u001b[0m\u001b[0;34m=\u001b[0m\u001b[0morder\u001b[0m\u001b[0;34m)\u001b[0m\u001b[0;34m\u001b[0m\u001b[0m\n\u001b[0m\u001b[1;32m    523\u001b[0m             \u001b[0;32mexcept\u001b[0m \u001b[0mComplexWarning\u001b[0m\u001b[0;34m:\u001b[0m\u001b[0;34m\u001b[0m\u001b[0m\n\u001b[1;32m    524\u001b[0m                 raise ValueError(\"Complex data not supported\\n\"\n",
      "\u001b[0;32m~/anaconda3/lib/python3.6/site-packages/numpy/core/numeric.py\u001b[0m in \u001b[0;36masarray\u001b[0;34m(a, dtype, order)\u001b[0m\n\u001b[1;32m    499\u001b[0m \u001b[0;34m\u001b[0m\u001b[0m\n\u001b[1;32m    500\u001b[0m     \"\"\"\n\u001b[0;32m--> 501\u001b[0;31m     \u001b[0;32mreturn\u001b[0m \u001b[0marray\u001b[0m\u001b[0;34m(\u001b[0m\u001b[0ma\u001b[0m\u001b[0;34m,\u001b[0m \u001b[0mdtype\u001b[0m\u001b[0;34m,\u001b[0m \u001b[0mcopy\u001b[0m\u001b[0;34m=\u001b[0m\u001b[0;32mFalse\u001b[0m\u001b[0;34m,\u001b[0m \u001b[0morder\u001b[0m\u001b[0;34m=\u001b[0m\u001b[0morder\u001b[0m\u001b[0;34m)\u001b[0m\u001b[0;34m\u001b[0m\u001b[0m\n\u001b[0m\u001b[1;32m    502\u001b[0m \u001b[0;34m\u001b[0m\u001b[0m\n\u001b[1;32m    503\u001b[0m \u001b[0;34m\u001b[0m\u001b[0m\n",
      "\u001b[0;31mValueError\u001b[0m: could not convert string to float: 'E'"
     ]
    }
   ],
   "source": [
    "clean_data = df.copy()\n",
    "clean_data = impute_data(clean_data, 'Publisher', 'drop_na')\n",
    "missing_labels = ['Year_of_Release', 'Critic_Score', 'Critic_Count', 'User_Score', 'User_Count', 'Rating']\n",
    "for e in missing_labels:\n",
    "    clean_data = impute_data(clean_data, e, 'hot_deck')\n",
    "\n",
    "clean_data.head()"
   ]
  },
  {
   "cell_type": "code",
   "execution_count": 142,
   "metadata": {},
   "outputs": [
    {
     "name": "stdout",
     "output_type": "stream",
     "text": [
      "(12084, 13)\n",
      "\n",
      "Platform           False\n",
      "Year_of_Release    False\n",
      "Genre              False\n",
      "Publisher          False\n",
      "JP_Sales           False\n",
      "Other_Sales        False\n",
      "Critic_Score       False\n",
      "Critic_Count       False\n",
      "User_Score         False\n",
      "User_Count         False\n",
      "Rating             False\n",
      "NA_Sales           False\n",
      "Global_Sales       False\n",
      "dtype: bool\n"
     ]
    }
   ],
   "source": [
    "#On vérifie que l'on a plus de NaN dans notre base de données ainsi que combien de valeurs il nous reste\n",
    "print(clean_data.shape)\n",
    "print()\n",
    "print(clean_data.isna().any())"
   ]
  },
  {
   "cell_type": "code",
   "execution_count": 203,
   "metadata": {},
   "outputs": [],
   "source": [
    "# On ajoute de nouvelles variables à notre base de données\n",
    "\n",
    "# on multiplie le Critic_Score par le Critic_Count et la même chose pour le User_Score\n",
    "clean_data['Critic_Score_by_Count'] = clean_data.Critic_Score*clean_data.Critic_Count\n",
    "clean_data['User_Score_by_Count'] = clean_data.User_Score*clean_data.User_Count\n",
    "\n",
    "#On donne une moyenne des Critic et User scores\n",
    "clean_data['Score'] = (clean_data.Critic_Score + clean_data.User_Score*10)/2\n",
    "\n",
    "#L'âge de la plateforme à la sortie du jeu\n",
    "clean_data['Platform_Age'] = clean_data.Year_of_Release - clean_data.groupby(['Platform'])['Year_of_Release'].transform(min)\n",
    "\n",
    "#La moyenne des ventes par plateforme et genre\n",
    "clean_data['Mean_Sales_by_Platform'] = clean_data.groupby(['Platform'])['Other_Sales'].transform('mean')\n",
    "clean_data['Mean_Sales_by_Genre'] = clean_data.groupby(['Genre'])['Other_Sales'].transform('mean')\n",
    "\n",
    "#Le nombre de jeux sortis la même année\n",
    "clean_data['Num_Games_Same_Year'] = clean_data.groupby(['Year_of_Release'])['Year_of_Release'].transform('count')\n",
    "\n",
    "#Le nombre de jeux de la même plateforme sortis la même année\n",
    "clean_data['Num_Games_Same_Year_by_Platform'] = clean_data.groupby(['Year_of_Release','Platform']).transform('count')"
   ]
  },
  {
   "cell_type": "code",
   "execution_count": 204,
   "metadata": {},
   "outputs": [
    {
     "data": {
      "text/html": [
       "<div>\n",
       "<style scoped>\n",
       "    .dataframe tbody tr th:only-of-type {\n",
       "        vertical-align: middle;\n",
       "    }\n",
       "\n",
       "    .dataframe tbody tr th {\n",
       "        vertical-align: top;\n",
       "    }\n",
       "\n",
       "    .dataframe thead th {\n",
       "        text-align: right;\n",
       "    }\n",
       "</style>\n",
       "<table border=\"1\" class=\"dataframe\">\n",
       "  <thead>\n",
       "    <tr style=\"text-align: right;\">\n",
       "      <th></th>\n",
       "      <th>Platform</th>\n",
       "      <th>Year_of_Release</th>\n",
       "      <th>Genre</th>\n",
       "      <th>Publisher</th>\n",
       "      <th>JP_Sales</th>\n",
       "      <th>Other_Sales</th>\n",
       "      <th>Critic_Score</th>\n",
       "      <th>Critic_Count</th>\n",
       "      <th>User_Score</th>\n",
       "      <th>User_Count</th>\n",
       "      <th>...</th>\n",
       "      <th>NA_Sales</th>\n",
       "      <th>Global_Sales</th>\n",
       "      <th>Critic_Score_by_Count</th>\n",
       "      <th>User_Score_by_Count</th>\n",
       "      <th>Score</th>\n",
       "      <th>Platform_Age</th>\n",
       "      <th>Mean_Sales_by_Platform</th>\n",
       "      <th>Mean_Sales_by_Genre</th>\n",
       "      <th>Num_Games_Same_Year</th>\n",
       "      <th>Num_Games_Same_Year_by_Platform</th>\n",
       "    </tr>\n",
       "    <tr>\n",
       "      <th>ID</th>\n",
       "      <th></th>\n",
       "      <th></th>\n",
       "      <th></th>\n",
       "      <th></th>\n",
       "      <th></th>\n",
       "      <th></th>\n",
       "      <th></th>\n",
       "      <th></th>\n",
       "      <th></th>\n",
       "      <th></th>\n",
       "      <th></th>\n",
       "      <th></th>\n",
       "      <th></th>\n",
       "      <th></th>\n",
       "      <th></th>\n",
       "      <th></th>\n",
       "      <th></th>\n",
       "      <th></th>\n",
       "      <th></th>\n",
       "      <th></th>\n",
       "      <th></th>\n",
       "    </tr>\n",
       "  </thead>\n",
       "  <tbody>\n",
       "    <tr>\n",
       "      <th>1</th>\n",
       "      <td>DS</td>\n",
       "      <td>2004.0</td>\n",
       "      <td>Puzzle</td>\n",
       "      <td>Ignition Entertainment</td>\n",
       "      <td>0.050524</td>\n",
       "      <td>0.010024</td>\n",
       "      <td>74.0</td>\n",
       "      <td>40.0</td>\n",
       "      <td>7.5</td>\n",
       "      <td>13.0</td>\n",
       "      <td>...</td>\n",
       "      <td>0.101432</td>\n",
       "      <td>0.172605</td>\n",
       "      <td>2960.0</td>\n",
       "      <td>97.5</td>\n",
       "      <td>74.5</td>\n",
       "      <td>0.0</td>\n",
       "      <td>0.024247</td>\n",
       "      <td>0.021734</td>\n",
       "      <td>596</td>\n",
       "      <td>17</td>\n",
       "    </tr>\n",
       "    <tr>\n",
       "      <th>2</th>\n",
       "      <td>DS</td>\n",
       "      <td>2010.0</td>\n",
       "      <td>Action</td>\n",
       "      <td>Namco Bandai Games</td>\n",
       "      <td>0.039211</td>\n",
       "      <td>0.001791</td>\n",
       "      <td>64.0</td>\n",
       "      <td>16.0</td>\n",
       "      <td>3.1</td>\n",
       "      <td>8.0</td>\n",
       "      <td>...</td>\n",
       "      <td>0.000440</td>\n",
       "      <td>0.043251</td>\n",
       "      <td>1024.0</td>\n",
       "      <td>24.8</td>\n",
       "      <td>47.5</td>\n",
       "      <td>6.0</td>\n",
       "      <td>0.024247</td>\n",
       "      <td>0.059557</td>\n",
       "      <td>995</td>\n",
       "      <td>250</td>\n",
       "    </tr>\n",
       "    <tr>\n",
       "      <th>3</th>\n",
       "      <td>DS</td>\n",
       "      <td>2006.0</td>\n",
       "      <td>Sports</td>\n",
       "      <td>System 3 Arcade Software</td>\n",
       "      <td>0.000374</td>\n",
       "      <td>0.001797</td>\n",
       "      <td>51.0</td>\n",
       "      <td>6.0</td>\n",
       "      <td>6.1</td>\n",
       "      <td>4.0</td>\n",
       "      <td>...</td>\n",
       "      <td>0.030829</td>\n",
       "      <td>0.041271</td>\n",
       "      <td>306.0</td>\n",
       "      <td>24.4</td>\n",
       "      <td>56.0</td>\n",
       "      <td>2.0</td>\n",
       "      <td>0.024247</td>\n",
       "      <td>0.064100</td>\n",
       "      <td>819</td>\n",
       "      <td>151</td>\n",
       "    </tr>\n",
       "    <tr>\n",
       "      <th>4</th>\n",
       "      <td>PS2</td>\n",
       "      <td>2002.0</td>\n",
       "      <td>Platform</td>\n",
       "      <td>THQ</td>\n",
       "      <td>0.001382</td>\n",
       "      <td>0.140010</td>\n",
       "      <td>70.0</td>\n",
       "      <td>24.0</td>\n",
       "      <td>6.6</td>\n",
       "      <td>41.0</td>\n",
       "      <td>...</td>\n",
       "      <td>0.528330</td>\n",
       "      <td>1.080821</td>\n",
       "      <td>1680.0</td>\n",
       "      <td>270.6</td>\n",
       "      <td>68.0</td>\n",
       "      <td>2.0</td>\n",
       "      <td>0.090127</td>\n",
       "      <td>0.057080</td>\n",
       "      <td>683</td>\n",
       "      <td>233</td>\n",
       "    </tr>\n",
       "    <tr>\n",
       "      <th>5</th>\n",
       "      <td>PSV</td>\n",
       "      <td>2014.0</td>\n",
       "      <td>Action</td>\n",
       "      <td>Tecmo Koei</td>\n",
       "      <td>0.069422</td>\n",
       "      <td>0.009535</td>\n",
       "      <td>67.0</td>\n",
       "      <td>19.0</td>\n",
       "      <td>7.5</td>\n",
       "      <td>61.0</td>\n",
       "      <td>...</td>\n",
       "      <td>0.020629</td>\n",
       "      <td>0.131074</td>\n",
       "      <td>1273.0</td>\n",
       "      <td>457.5</td>\n",
       "      <td>71.0</td>\n",
       "      <td>3.0</td>\n",
       "      <td>0.017572</td>\n",
       "      <td>0.059557</td>\n",
       "      <td>457</td>\n",
       "      <td>74</td>\n",
       "    </tr>\n",
       "  </tbody>\n",
       "</table>\n",
       "<p>5 rows × 21 columns</p>\n",
       "</div>"
      ],
      "text/plain": [
       "   Platform  Year_of_Release     Genre                 Publisher  JP_Sales  \\\n",
       "ID                                                                           \n",
       "1        DS           2004.0    Puzzle    Ignition Entertainment  0.050524   \n",
       "2        DS           2010.0    Action        Namco Bandai Games  0.039211   \n",
       "3        DS           2006.0    Sports  System 3 Arcade Software  0.000374   \n",
       "4       PS2           2002.0  Platform                       THQ  0.001382   \n",
       "5       PSV           2014.0    Action                Tecmo Koei  0.069422   \n",
       "\n",
       "    Other_Sales  Critic_Score  Critic_Count  User_Score  User_Count  \\\n",
       "ID                                                                    \n",
       "1      0.010024          74.0          40.0         7.5        13.0   \n",
       "2      0.001791          64.0          16.0         3.1         8.0   \n",
       "3      0.001797          51.0           6.0         6.1         4.0   \n",
       "4      0.140010          70.0          24.0         6.6        41.0   \n",
       "5      0.009535          67.0          19.0         7.5        61.0   \n",
       "\n",
       "                 ...                 NA_Sales  Global_Sales  \\\n",
       "ID               ...                                          \n",
       "1                ...                 0.101432      0.172605   \n",
       "2                ...                 0.000440      0.043251   \n",
       "3                ...                 0.030829      0.041271   \n",
       "4                ...                 0.528330      1.080821   \n",
       "5                ...                 0.020629      0.131074   \n",
       "\n",
       "    Critic_Score_by_Count  User_Score_by_Count  Score  Platform_Age  \\\n",
       "ID                                                                    \n",
       "1                  2960.0                 97.5   74.5           0.0   \n",
       "2                  1024.0                 24.8   47.5           6.0   \n",
       "3                   306.0                 24.4   56.0           2.0   \n",
       "4                  1680.0                270.6   68.0           2.0   \n",
       "5                  1273.0                457.5   71.0           3.0   \n",
       "\n",
       "    Mean_Sales_by_Platform  Mean_Sales_by_Genre  Num_Games_Same_Year  \\\n",
       "ID                                                                     \n",
       "1                 0.024247             0.021734                  596   \n",
       "2                 0.024247             0.059557                  995   \n",
       "3                 0.024247             0.064100                  819   \n",
       "4                 0.090127             0.057080                  683   \n",
       "5                 0.017572             0.059557                  457   \n",
       "\n",
       "    Num_Games_Same_Year_by_Platform  \n",
       "ID                                   \n",
       "1                                17  \n",
       "2                               250  \n",
       "3                               151  \n",
       "4                               233  \n",
       "5                                74  \n",
       "\n",
       "[5 rows x 21 columns]"
      ]
     },
     "execution_count": 204,
     "metadata": {},
     "output_type": "execute_result"
    }
   ],
   "source": [
    "clean_data.head()"
   ]
  },
  {
   "cell_type": "code",
   "execution_count": 141,
   "metadata": {},
   "outputs": [],
   "source": [
    "# Sources for imputing algorithms:\n",
    "# https://www.theanalysisfactor.com/seven-ways-to-make-up-data-common-methods-to-imputing-missing-data/\n",
    "# https://www.theanalysisfactor.com/missing-data-two-recommended-solutions/\n",
    "# https://www.kaggle.com/residentmario/simple-techniques-for-missing-data-imputation    "
   ]
  },
  {
   "cell_type": "markdown",
   "metadata": {},
   "source": [
    "## Décrivons les caractéristiques statistiques des colonnes quantitatives"
   ]
  },
  {
   "cell_type": "code",
   "execution_count": 186,
   "metadata": {},
   "outputs": [
    {
     "data": {
      "text/html": [
       "<div>\n",
       "<style scoped>\n",
       "    .dataframe tbody tr th:only-of-type {\n",
       "        vertical-align: middle;\n",
       "    }\n",
       "\n",
       "    .dataframe tbody tr th {\n",
       "        vertical-align: top;\n",
       "    }\n",
       "\n",
       "    .dataframe thead th {\n",
       "        text-align: right;\n",
       "    }\n",
       "</style>\n",
       "<table border=\"1\" class=\"dataframe\">\n",
       "  <thead>\n",
       "    <tr style=\"text-align: right;\">\n",
       "      <th></th>\n",
       "      <th>Year_of_Release</th>\n",
       "      <th>JP_Sales</th>\n",
       "      <th>Other_Sales</th>\n",
       "      <th>Critic_Score</th>\n",
       "      <th>Critic_Count</th>\n",
       "      <th>User_Score</th>\n",
       "      <th>User_Count</th>\n",
       "      <th>NA_Sales</th>\n",
       "      <th>Global_Sales</th>\n",
       "      <th>Critic_Score_by_Count</th>\n",
       "      <th>User_Score_by_Count</th>\n",
       "      <th>Score</th>\n",
       "      <th>Platform_Age</th>\n",
       "      <th>Mean_Sales_by_Platform</th>\n",
       "      <th>Mean_Sales_by_Genre</th>\n",
       "      <th>Num_Games_Same_Year</th>\n",
       "    </tr>\n",
       "  </thead>\n",
       "  <tbody>\n",
       "    <tr>\n",
       "      <th>count</th>\n",
       "      <td>12084.000000</td>\n",
       "      <td>1.208400e+04</td>\n",
       "      <td>1.208400e+04</td>\n",
       "      <td>12084.000000</td>\n",
       "      <td>12084.000000</td>\n",
       "      <td>12084.000000</td>\n",
       "      <td>12084.000000</td>\n",
       "      <td>1.208400e+04</td>\n",
       "      <td>12084.000000</td>\n",
       "      <td>12084.000000</td>\n",
       "      <td>12084.000000</td>\n",
       "      <td>12084.000000</td>\n",
       "      <td>12084.000000</td>\n",
       "      <td>12084.000000</td>\n",
       "      <td>12084.000000</td>\n",
       "      <td>12084.000000</td>\n",
       "    </tr>\n",
       "    <tr>\n",
       "      <th>mean</th>\n",
       "      <td>2007.366352</td>\n",
       "      <td>5.644412e-02</td>\n",
       "      <td>5.046786e-02</td>\n",
       "      <td>67.651440</td>\n",
       "      <td>23.565210</td>\n",
       "      <td>7.148246</td>\n",
       "      <td>104.769199</td>\n",
       "      <td>2.522927e-01</td>\n",
       "      <td>0.508502</td>\n",
       "      <td>1668.451754</td>\n",
       "      <td>762.907589</td>\n",
       "      <td>69.566948</td>\n",
       "      <td>5.131827</td>\n",
       "      <td>0.050468</td>\n",
       "      <td>0.050468</td>\n",
       "      <td>737.990897</td>\n",
       "    </tr>\n",
       "    <tr>\n",
       "      <th>std</th>\n",
       "      <td>4.712167</td>\n",
       "      <td>2.246060e-01</td>\n",
       "      <td>1.990742e-01</td>\n",
       "      <td>14.122441</td>\n",
       "      <td>17.751789</td>\n",
       "      <td>1.496419</td>\n",
       "      <td>407.958428</td>\n",
       "      <td>7.217695e-01</td>\n",
       "      <td>1.443782</td>\n",
       "      <td>1439.653132</td>\n",
       "      <td>3076.998629</td>\n",
       "      <td>11.796606</td>\n",
       "      <td>5.385334</td>\n",
       "      <td>0.033774</td>\n",
       "      <td>0.018882</td>\n",
       "      <td>290.026388</td>\n",
       "    </tr>\n",
       "    <tr>\n",
       "      <th>min</th>\n",
       "      <td>1985.000000</td>\n",
       "      <td>3.243517e-08</td>\n",
       "      <td>5.532242e-08</td>\n",
       "      <td>13.000000</td>\n",
       "      <td>3.000000</td>\n",
       "      <td>0.000000</td>\n",
       "      <td>4.000000</td>\n",
       "      <td>5.902098e-07</td>\n",
       "      <td>0.008667</td>\n",
       "      <td>52.000000</td>\n",
       "      <td>0.000000</td>\n",
       "      <td>11.500000</td>\n",
       "      <td>0.000000</td>\n",
       "      <td>0.008374</td>\n",
       "      <td>0.014049</td>\n",
       "      <td>1.000000</td>\n",
       "    </tr>\n",
       "    <tr>\n",
       "      <th>25%</th>\n",
       "      <td>2004.000000</td>\n",
       "      <td>7.668613e-04</td>\n",
       "      <td>1.391851e-03</td>\n",
       "      <td>59.000000</td>\n",
       "      <td>10.000000</td>\n",
       "      <td>6.500000</td>\n",
       "      <td>8.000000</td>\n",
       "      <td>8.930187e-03</td>\n",
       "      <td>0.061985</td>\n",
       "      <td>624.000000</td>\n",
       "      <td>54.400000</td>\n",
       "      <td>63.000000</td>\n",
       "      <td>2.000000</td>\n",
       "      <td>0.022805</td>\n",
       "      <td>0.035599</td>\n",
       "      <td>467.000000</td>\n",
       "    </tr>\n",
       "    <tr>\n",
       "      <th>50%</th>\n",
       "      <td>2008.000000</td>\n",
       "      <td>1.537710e-03</td>\n",
       "      <td>1.060173e-02</td>\n",
       "      <td>69.000000</td>\n",
       "      <td>18.000000</td>\n",
       "      <td>7.500000</td>\n",
       "      <td>18.000000</td>\n",
       "      <td>8.095274e-02</td>\n",
       "      <td>0.170092</td>\n",
       "      <td>1241.000000</td>\n",
       "      <td>129.000000</td>\n",
       "      <td>71.000000</td>\n",
       "      <td>4.000000</td>\n",
       "      <td>0.034085</td>\n",
       "      <td>0.059557</td>\n",
       "      <td>746.000000</td>\n",
       "    </tr>\n",
       "    <tr>\n",
       "      <th>75%</th>\n",
       "      <td>2011.000000</td>\n",
       "      <td>2.828128e-02</td>\n",
       "      <td>3.966217e-02</td>\n",
       "      <td>78.000000</td>\n",
       "      <td>32.000000</td>\n",
       "      <td>8.200000</td>\n",
       "      <td>49.000000</td>\n",
       "      <td>2.397284e-01</td>\n",
       "      <td>0.471726</td>\n",
       "      <td>2244.000000</td>\n",
       "      <td>367.500000</td>\n",
       "      <td>78.000000</td>\n",
       "      <td>6.000000</td>\n",
       "      <td>0.090127</td>\n",
       "      <td>0.064100</td>\n",
       "      <td>995.000000</td>\n",
       "    </tr>\n",
       "    <tr>\n",
       "      <th>max</th>\n",
       "      <td>2016.000000</td>\n",
       "      <td>5.329979e+00</td>\n",
       "      <td>1.057099e+01</td>\n",
       "      <td>98.000000</td>\n",
       "      <td>113.000000</td>\n",
       "      <td>9.700000</td>\n",
       "      <td>10665.000000</td>\n",
       "      <td>4.135978e+01</td>\n",
       "      <td>82.540699</td>\n",
       "      <td>10509.000000</td>\n",
       "      <td>99184.500000</td>\n",
       "      <td>95.000000</td>\n",
       "      <td>31.000000</td>\n",
       "      <td>0.116336</td>\n",
       "      <td>0.082486</td>\n",
       "      <td>1132.000000</td>\n",
       "    </tr>\n",
       "  </tbody>\n",
       "</table>\n",
       "</div>"
      ],
      "text/plain": [
       "       Year_of_Release      JP_Sales   Other_Sales  Critic_Score  \\\n",
       "count     12084.000000  1.208400e+04  1.208400e+04  12084.000000   \n",
       "mean       2007.366352  5.644412e-02  5.046786e-02     67.651440   \n",
       "std           4.712167  2.246060e-01  1.990742e-01     14.122441   \n",
       "min        1985.000000  3.243517e-08  5.532242e-08     13.000000   \n",
       "25%        2004.000000  7.668613e-04  1.391851e-03     59.000000   \n",
       "50%        2008.000000  1.537710e-03  1.060173e-02     69.000000   \n",
       "75%        2011.000000  2.828128e-02  3.966217e-02     78.000000   \n",
       "max        2016.000000  5.329979e+00  1.057099e+01     98.000000   \n",
       "\n",
       "       Critic_Count    User_Score    User_Count      NA_Sales  Global_Sales  \\\n",
       "count  12084.000000  12084.000000  12084.000000  1.208400e+04  12084.000000   \n",
       "mean      23.565210      7.148246    104.769199  2.522927e-01      0.508502   \n",
       "std       17.751789      1.496419    407.958428  7.217695e-01      1.443782   \n",
       "min        3.000000      0.000000      4.000000  5.902098e-07      0.008667   \n",
       "25%       10.000000      6.500000      8.000000  8.930187e-03      0.061985   \n",
       "50%       18.000000      7.500000     18.000000  8.095274e-02      0.170092   \n",
       "75%       32.000000      8.200000     49.000000  2.397284e-01      0.471726   \n",
       "max      113.000000      9.700000  10665.000000  4.135978e+01     82.540699   \n",
       "\n",
       "       Critic_Score_by_Count  User_Score_by_Count         Score  Platform_Age  \\\n",
       "count           12084.000000         12084.000000  12084.000000  12084.000000   \n",
       "mean             1668.451754           762.907589     69.566948      5.131827   \n",
       "std              1439.653132          3076.998629     11.796606      5.385334   \n",
       "min                52.000000             0.000000     11.500000      0.000000   \n",
       "25%               624.000000            54.400000     63.000000      2.000000   \n",
       "50%              1241.000000           129.000000     71.000000      4.000000   \n",
       "75%              2244.000000           367.500000     78.000000      6.000000   \n",
       "max             10509.000000         99184.500000     95.000000     31.000000   \n",
       "\n",
       "       Mean_Sales_by_Platform  Mean_Sales_by_Genre  Num_Games_Same_Year  \n",
       "count            12084.000000         12084.000000         12084.000000  \n",
       "mean                 0.050468             0.050468           737.990897  \n",
       "std                  0.033774             0.018882           290.026388  \n",
       "min                  0.008374             0.014049             1.000000  \n",
       "25%                  0.022805             0.035599           467.000000  \n",
       "50%                  0.034085             0.059557           746.000000  \n",
       "75%                  0.090127             0.064100           995.000000  \n",
       "max                  0.116336             0.082486          1132.000000  "
      ]
     },
     "execution_count": 186,
     "metadata": {},
     "output_type": "execute_result"
    }
   ],
   "source": [
    "clean_data.describe()"
   ]
  },
  {
   "cell_type": "markdown",
   "metadata": {},
   "source": [
    "## Comptons les valeurs des variables qualitatives"
   ]
  },
  {
   "cell_type": "code",
   "execution_count": 187,
   "metadata": {},
   "outputs": [
    {
     "name": "stdout",
     "output_type": "stream",
     "text": [
      "\n",
      "Column Name: Platform\n",
      "PS2     1735\n",
      "DS      1619\n",
      "PS3     1079\n",
      "Wii     1015\n",
      "X360    1006\n",
      "PSP      933\n",
      "PS       888\n",
      "PC       762\n",
      "XB       669\n",
      "GBA      594\n",
      "GC       446\n",
      "3DS      387\n",
      "PSV      305\n",
      "PS4      304\n",
      "XOne     208\n",
      "WiiU     108\n",
      "DC        26\n",
      "Name: Platform, dtype: int64\n",
      "\n",
      "Column Name: Genre\n",
      "Action          2556\n",
      "Sports          1688\n",
      "Misc            1260\n",
      "Role-Playing    1088\n",
      "Shooter          996\n",
      "Adventure        929\n",
      "Racing           920\n",
      "Simulation       649\n",
      "Platform         587\n",
      "Fighting         555\n",
      "Strategy         484\n",
      "Puzzle           372\n",
      "Name: Genre, dtype: int64\n",
      "\n",
      "Column Name: Publisher\n",
      "Electronic Arts                           1080\n",
      "Activision                                 750\n",
      "Ubisoft                                    726\n",
      "Namco Bandai Games                         671\n",
      "Konami Digital Entertainment               583\n",
      "THQ                                        539\n",
      "Sony Computer Entertainment                537\n",
      "Sega                                       401\n",
      "Nintendo                                   379\n",
      "Take-Two Interactive                       340\n",
      "Capcom                                     278\n",
      "Tecmo Koei                                 273\n",
      "Atari                                      250\n",
      "Square Enix                                189\n",
      "Warner Bros. Interactive Entertainment     173\n",
      "Eidos Interactive                          165\n",
      "Disney Interactive Studios                 163\n",
      "Microsoft Game Studios                     154\n",
      "Unknown                                    151\n",
      "505 Games                                  151\n",
      "Midway Games                               142\n",
      "D3Publisher                                137\n",
      "Vivendi Games                              133\n",
      "Codemasters                                124\n",
      "Acclaim Entertainment                      107\n",
      "Deep Silver                                105\n",
      "Idea Factory                                93\n",
      "Nippon Ichi Software                        85\n",
      "Zoo Digital Publishing                      83\n",
      "LucasArts                                   75\n",
      "                                          ... \n",
      "Gameloft                                     1\n",
      "Alvion                                       1\n",
      "HuneX                                        1\n",
      "Vatical Entertainment                        1\n",
      "Locus                                        1\n",
      "GOA                                          1\n",
      "Fuji                                         1\n",
      "Fortyfive                                    1\n",
      "Kamui                                        1\n",
      "Type-Moon                                    1\n",
      "Gainax Network Systems                       1\n",
      "RED Entertainment                            1\n",
      "Dusenberry Martin Racing                     1\n",
      "Electronic Arts Victor                       1\n",
      "Funbox Media                                 1\n",
      "TalonSoft                                    1\n",
      "Enjoy Gaming ltd.                            1\n",
      "Pony Canyon                                  1\n",
      "Black Label Games                            1\n",
      "Magix                                        1\n",
      "Illusion Softworks                           1\n",
      "Xicat Interactive                            1\n",
      "Dorart                                       1\n",
      "SCS Software                                 1\n",
      "Summitsoft                                   1\n",
      "Ertain                                       1\n",
      "Lighthouse Interactive                       1\n",
      "Aria                                         1\n",
      "Ongakukan                                    1\n",
      "Graphsim Entertainment                       1\n",
      "Name: Publisher, Length: 479, dtype: int64\n",
      "\n",
      "Column Name: Rating\n",
      "E       4882\n",
      "T       3705\n",
      "M       1759\n",
      "E10+    1721\n",
      "EC         9\n",
      "K-A        5\n",
      "RP         2\n",
      "AO         1\n",
      "Name: Rating, dtype: int64\n"
     ]
    }
   ],
   "source": [
    "for col in clean_data.columns:\n",
    "    if clean_data[col].dtype == 'object':\n",
    "        print('\\nColumn Name:', col,)\n",
    "        print(clean_data[col].value_counts())"
   ]
  },
  {
   "cell_type": "markdown",
   "metadata": {},
   "source": [
    "## Distribution des ventes NA et globales"
   ]
  },
  {
   "cell_type": "code",
   "execution_count": 188,
   "metadata": {},
   "outputs": [
    {
     "data": {
      "text/html": [
       "<div>\n",
       "<style scoped>\n",
       "    .dataframe tbody tr th:only-of-type {\n",
       "        vertical-align: middle;\n",
       "    }\n",
       "\n",
       "    .dataframe tbody tr th {\n",
       "        vertical-align: top;\n",
       "    }\n",
       "\n",
       "    .dataframe thead th {\n",
       "        text-align: right;\n",
       "    }\n",
       "</style>\n",
       "<table border=\"1\" class=\"dataframe\">\n",
       "  <thead>\n",
       "    <tr style=\"text-align: right;\">\n",
       "      <th></th>\n",
       "      <th>NA_Sales</th>\n",
       "      <th>Global_Sales</th>\n",
       "    </tr>\n",
       "  </thead>\n",
       "  <tbody>\n",
       "    <tr>\n",
       "      <th>count</th>\n",
       "      <td>1.208400e+04</td>\n",
       "      <td>12084.000000</td>\n",
       "    </tr>\n",
       "    <tr>\n",
       "      <th>mean</th>\n",
       "      <td>2.522927e-01</td>\n",
       "      <td>0.508502</td>\n",
       "    </tr>\n",
       "    <tr>\n",
       "      <th>std</th>\n",
       "      <td>7.217695e-01</td>\n",
       "      <td>1.443782</td>\n",
       "    </tr>\n",
       "    <tr>\n",
       "      <th>min</th>\n",
       "      <td>5.902098e-07</td>\n",
       "      <td>0.008667</td>\n",
       "    </tr>\n",
       "    <tr>\n",
       "      <th>25%</th>\n",
       "      <td>8.930187e-03</td>\n",
       "      <td>0.061985</td>\n",
       "    </tr>\n",
       "    <tr>\n",
       "      <th>50%</th>\n",
       "      <td>8.095274e-02</td>\n",
       "      <td>0.170092</td>\n",
       "    </tr>\n",
       "    <tr>\n",
       "      <th>75%</th>\n",
       "      <td>2.397284e-01</td>\n",
       "      <td>0.471726</td>\n",
       "    </tr>\n",
       "    <tr>\n",
       "      <th>max</th>\n",
       "      <td>4.135978e+01</td>\n",
       "      <td>82.540699</td>\n",
       "    </tr>\n",
       "  </tbody>\n",
       "</table>\n",
       "</div>"
      ],
      "text/plain": [
       "           NA_Sales  Global_Sales\n",
       "count  1.208400e+04  12084.000000\n",
       "mean   2.522927e-01      0.508502\n",
       "std    7.217695e-01      1.443782\n",
       "min    5.902098e-07      0.008667\n",
       "25%    8.930187e-03      0.061985\n",
       "50%    8.095274e-02      0.170092\n",
       "75%    2.397284e-01      0.471726\n",
       "max    4.135978e+01     82.540699"
      ]
     },
     "execution_count": 188,
     "metadata": {},
     "output_type": "execute_result"
    }
   ],
   "source": [
    "clean_data[['NA_Sales', 'Global_Sales']].describe()"
   ]
  },
  {
   "cell_type": "code",
   "execution_count": 189,
   "metadata": {},
   "outputs": [
    {
     "name": "stderr",
     "output_type": "stream",
     "text": [
      "/home/iryasu/anaconda3/lib/python3.6/site-packages/scipy/stats/stats.py:1713: FutureWarning: Using a non-tuple sequence for multidimensional indexing is deprecated; use `arr[tuple(seq)]` instead of `arr[seq]`. In the future this will be interpreted as an array index, `arr[np.array(seq)]`, which will result either in an error or a different result.\n",
      "  return np.add.reduce(sorted[indexer] * weights, axis=axis) / sumval\n"
     ]
    },
    {
     "data": {
      "text/plain": [
       "<matplotlib.axes._subplots.AxesSubplot at 0x7f69a1f28828>"
      ]
     },
     "execution_count": 189,
     "metadata": {},
     "output_type": "execute_result"
    },
    {
     "data": {
      "image/png": "[encoded data removed]",
      "text/plain": [
       "<matplotlib.figure.Figure at 0x7f69a2607128>"
      ]
     },
     "metadata": {
      "needs_background": "light"
     },
     "output_type": "display_data"
    }
   ],
   "source": [
    "sns.distplot(clean_data['NA_Sales'], hist=False)"
   ]
  },
  {
   "cell_type": "code",
   "execution_count": 152,
   "metadata": {},
   "outputs": [
    {
     "data": {
      "text/plain": [
       "<matplotlib.axes._subplots.AxesSubplot at 0x7f69a2641240>"
      ]
     },
     "execution_count": 152,
     "metadata": {},
     "output_type": "execute_result"
    },
    {
     "data": {
      "image/png": "[encoded data removed]",
      "text/plain": [
       "<matplotlib.figure.Figure at 0x7f69a25c8d68>"
      ]
     },
     "metadata": {
      "needs_background": "light"
     },
     "output_type": "display_data"
    }
   ],
   "source": [
    "sns.distplot(clean_data['Global_Sales'], hist=False)"
   ]
  },
  {
   "cell_type": "markdown",
   "metadata": {},
   "source": [
    "### à vue d'oeil, nous serons tentés de poser l'hypothèse que les ventent suivent une loi Gamma"
   ]
  },
  {
   "cell_type": "markdown",
   "metadata": {},
   "source": [
    "## Analyse des ventes globales suivant les différentes variables"
   ]
  },
  {
   "cell_type": "code",
   "execution_count": 162,
   "metadata": {},
   "outputs": [
    {
     "data": {
      "image/png": "[encoded data removed]",
      "text/plain": [
       "<matplotlib.figure.Figure at 0x7f69a2534ac8>"
      ]
     },
     "metadata": {
      "needs_background": "light"
     },
     "output_type": "display_data"
    }
   ],
   "source": [
    "# Analyse des ventes par rapport à la plateforme\n",
    "sns.barplot(x = 'Platform', y = 'Global_Sales', data = clean_data)\n",
    "    \n",
    "plt.xlabel('Global_Sales'); plt.ylabel('Count'); plt.title('Bar Plot of Global Sales by Platform');"
   ]
  },
  {
   "cell_type": "code",
   "execution_count": 170,
   "metadata": {},
   "outputs": [
    {
     "data": {
      "text/plain": [
       "<seaborn.axisgrid.FacetGrid at 0x7f69a214d0b8>"
      ]
     },
     "execution_count": 170,
     "metadata": {},
     "output_type": "execute_result"
    },
    {
     "data": {
      "image/png": "[encoded data removed]",
      "text/plain": [
       "<matplotlib.figure.Figure at 0x7f69a214d5f8>"
      ]
     },
     "metadata": {
      "needs_background": "light"
     },
     "output_type": "display_data"
    },
    {
     "data": {
      "image/png": "[encoded data removed]",
      "text/plain": [
       "<matplotlib.figure.Figure at 0x7f69a6845940>"
      ]
     },
     "metadata": {
      "needs_background": "light"
     },
     "output_type": "display_data"
    }
   ],
   "source": [
    "#Analyse de la variation des ventes à travers les années\n",
    "sns.relplot(x = 'Year_of_Release', y = 'Global_Sales', data = clean_data)\n",
    "sns.relplot(x = 'Year_of_Release', y = 'Global_Sales', kind = 'line', data = clean_data)"
   ]
  },
  {
   "cell_type": "code",
   "execution_count": 171,
   "metadata": {},
   "outputs": [
    {
     "data": {
      "image/png": "[encoded data removed]",
      "text/plain": [
       "<matplotlib.figure.Figure at 0x7f69a21b8eb8>"
      ]
     },
     "metadata": {
      "needs_background": "light"
     },
     "output_type": "display_data"
    }
   ],
   "source": [
    "#Analyse des ventes par genre\n",
    "sns.barplot(x = 'Genre', y = 'Global_Sales', data = clean_data)\n",
    "    \n",
    "plt.xlabel('Global_Sales'); plt.ylabel('Count'); plt.title('Bar Plot of Global Sales by Genre');"
   ]
  },
  {
   "cell_type": "code",
   "execution_count": 172,
   "metadata": {},
   "outputs": [
    {
     "data": {
      "text/plain": [
       "<seaborn.axisgrid.FacetGrid at 0x7f69a1bc9ef0>"
      ]
     },
     "execution_count": 172,
     "metadata": {},
     "output_type": "execute_result"
    },
    {
     "data": {
      "image/png": "[encoded data removed]",
      "text/plain": [
       "<matplotlib.figure.Figure at 0x7f69a1bc9f28>"
      ]
     },
     "metadata": {
      "needs_background": "light"
     },
     "output_type": "display_data"
    },
    {
     "data": {
      "image/png": "[encoded data removed]",
      "text/plain": [
       "<matplotlib.figure.Figure at 0x7f69a2206400>"
      ]
     },
     "metadata": {
      "needs_background": "light"
     },
     "output_type": "display_data"
    }
   ],
   "source": [
    "#Analyse de la variation des ventes globales par rapport aux ventes japonaises\n",
    "sns.relplot(x = 'JP_Sales', y = 'Global_Sales', data = clean_data)\n",
    "sns.relplot(x = 'JP_Sales', y = 'Global_Sales', kind = 'line', data = clean_data)"
   ]
  },
  {
   "cell_type": "code",
   "execution_count": 175,
   "metadata": {},
   "outputs": [
    {
     "data": {
      "text/plain": [
       "<seaborn.axisgrid.FacetGrid at 0x7f69a1c380b8>"
      ]
     },
     "execution_count": 175,
     "metadata": {},
     "output_type": "execute_result"
    },
    {
     "data": {
      "image/png": "[encoded data removed]",
      "text/plain": [
       "<matplotlib.figure.Figure at 0x7f69a18d60b8>"
      ]
     },
     "metadata": {
      "needs_background": "light"
     },
     "output_type": "display_data"
    },
    {
     "data": {
      "image/png": "[encoded data removed]",
      "text/plain": [
       "<matplotlib.figure.Figure at 0x7f69a245c8d0>"
      ]
     },
     "metadata": {
      "needs_background": "light"
     },
     "output_type": "display_data"
    }
   ],
   "source": [
    "#Analyse de la variation des ventes globales par rapport aux autres ventes\n",
    "sns.relplot(x = 'Other_Sales', y = 'Global_Sales', data = clean_data)\n",
    "sns.relplot(x = 'Other_Sales', y = 'Global_Sales', kind = 'line', data = clean_data)"
   ]
  },
  {
   "cell_type": "code",
   "execution_count": null,
   "metadata": {},
   "outputs": [],
   "source": [
    "#Analyse de l'impact du critic score sur les ventes globales\n",
    "sns.relplot(x = 'Critic_Score', y = 'Global_Sales', data = clean_data)\n",
    "sns.relplot(x = 'Critic_Score', y = 'Global_Sales', kind = 'line', data = clean_data)"
   ]
  },
  {
   "cell_type": "code",
   "execution_count": null,
   "metadata": {},
   "outputs": [],
   "source": [
    "#Analyse de l'impact du critic count sur les ventes globales\n",
    "sns.relplot(x = 'Critic_Count', y = 'Global_Sales', data = clean_data)\n",
    "sns.relplot(x = 'Critic_Count', y = 'Global_Sales', kind = 'line', data = clean_data)"
   ]
  },
  {
   "cell_type": "code",
   "execution_count": null,
   "metadata": {},
   "outputs": [],
   "source": [
    "#Analyse de l'impact du user score sur les ventes globales\n",
    "sns.relplot(x = 'User_Score', y = 'Global_Sales', data = clean_data)\n",
    "sns.relplot(x = 'User_Score', y = 'Global_Sales', kind = 'line', data = clean_data)"
   ]
  },
  {
   "cell_type": "code",
   "execution_count": null,
   "metadata": {},
   "outputs": [],
   "source": [
    "#Analyse de l'impact du user count sur les ventes globales\n",
    "sns.relplot(x = 'Critic_Count', y = 'Global_Sales', data = clean_data)\n",
    "sns.relplot(x = 'Critic_Count', y = 'Global_Sales', kind = 'line', data = clean_data)"
   ]
  },
  {
   "cell_type": "code",
   "execution_count": null,
   "metadata": {},
   "outputs": [],
   "source": [
    "#Analyse de l'impact du critic score fois le critic count sur les ventes globales\n",
    "sns.relplot(x = 'Critic_Score', y = 'Global_Sales', data = clean_data)\n",
    "sns.relplot(x = 'Critic_Score', y = 'Global_Sales', kind = 'line', data = clean_data)"
   ]
  },
  {
   "cell_type": "code",
   "execution_count": null,
   "metadata": {},
   "outputs": [],
   "source": [
    "#Analyse de l'impact du score moyen sur les ventes globales\n",
    "sns.relplot(x = 'Score', y = 'Global_Sales', data = clean_data)\n",
    "sns.relplot(x = 'Score', y = 'Global_Sales', kind = 'line', data = clean_data)"
   ]
  },
  {
   "cell_type": "code",
   "execution_count": null,
   "metadata": {},
   "outputs": [],
   "source": []
  },
  {
   "cell_type": "code",
   "execution_count": 156,
   "metadata": {},
   "outputs": [
    {
     "data": {
      "text/plain": [
       "['Platform',\n",
       " 'Year_of_Release',\n",
       " 'Genre',\n",
       " 'Publisher',\n",
       " 'JP_Sales',\n",
       " 'Other_Sales',\n",
       " 'Critic_Score',\n",
       " 'Critic_Count',\n",
       " 'User_Score',\n",
       " 'User_Count',\n",
       " 'Rating',\n",
       " 'NA_Sales',\n",
       " 'Global_Sales']"
      ]
     },
     "execution_count": 156,
     "metadata": {},
     "output_type": "execute_result"
    }
   ],
   "source": [
    "list(clean_data)"
   ]
  }
 ],
 "metadata": {
  "kernelspec": {
   "display_name": "Python 3",
   "language": "python",
   "name": "python3"
  },
  "language_info": {
   "codemirror_mode": {
    "name": "ipython",
    "version": 3
   },
   "file_extension": ".py",
   "mimetype": "text/x-python",
   "name": "python",
   "nbconvert_exporter": "python",
   "pygments_lexer": "ipython3",
   "version": "3.6.5"
  }
 },
 "nbformat": 4,
 "nbformat_minor": 2
}
