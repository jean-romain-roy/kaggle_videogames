{
 "cells": [
  {
   "cell_type": "code",
   "execution_count": 586,
   "metadata": {},
   "outputs": [],
   "source": [
    "import numpy as np\n",
    "import pandas as pd\n",
    "import matplotlib.pyplot as plt"
   ]
  },
  {
   "cell_type": "code",
   "execution_count": 587,
   "metadata": {},
   "outputs": [],
   "source": [
    "pathTest = \"./test3.csv\"\n",
    "pathTrain = \"./train3.csv\"\n",
    "\n",
    "# Importe les jeux de donnees\n",
    "df_test = pd.read_csv(pathTest, sep=',', index_col=0)\n",
    "df_train = pd.read_csv(pathTrain, sep=',', index_col=0)"
   ]
  },
  {
   "cell_type": "code",
   "execution_count": 588,
   "metadata": {},
   "outputs": [],
   "source": [
    "X_train = df_train\n",
    "\n",
    "# On enlève le nom qui sert à rien \n",
    "\n",
    "X_train = X_train.drop(['Name'], axis =1)"
   ]
  },
  {
   "cell_type": "code",
   "execution_count": 589,
   "metadata": {},
   "outputs": [],
   "source": [
    "# On encode par des entiers les colonnes Platform, Genre, Publisher et Developer.\n",
    "\n",
    "from sklearn.preprocessing import LabelEncoder\n",
    "platform = LabelEncoder()\n",
    "genre = LabelEncoder()\n",
    "publisher = LabelEncoder()\n",
    "developer = LabelEncoder()\n",
    "\n",
    "\n",
    "X_train[\"Platform\"] = platform.fit_transform(X_train[\"Platform\"].astype(str))\n",
    "X_train[\"Genre\"] = genre.fit_transform(X_train[\"Genre\"].values.astype(str))\n",
    "X_train[\"Publisher\"] = publisher.fit_transform(X_train[\"Publisher\"].values.astype(str))\n",
    "X_train[\"Developer\"] = developer.fit_transform(X_train[\"Developer\"].astype(str))"
   ]
  },
  {
   "cell_type": "code",
   "execution_count": 590,
   "metadata": {},
   "outputs": [
    {
     "data": {
      "text/plain": [
       "(14094,)"
      ]
     },
     "execution_count": 590,
     "metadata": {},
     "output_type": "execute_result"
    }
   ],
   "source": [
    "X_train['NA_Sales'].unique().shape"
   ]
  },
  {
   "cell_type": "code",
   "execution_count": 591,
   "metadata": {},
   "outputs": [],
   "source": [
    "# On remplit les nan par des medianes dans les colonnes suivantes : \n",
    "# A remplacer par une moyenne d'intervalles. \n",
    "\n",
    "X_train[\"Year_of_Release\"]=X_train[\"Year_of_Release\"].fillna(X_train[\"Year_of_Release\"].median())\n",
    "X_train[\"Critic_Score\"]=X_train[\"Critic_Score\"].fillna(X_train[\"Critic_Score\"].median())\n",
    "X_train[\"Critic_Count\"]=X_train[\"Critic_Count\"].fillna(X_train[\"Critic_Count\"].median())\n",
    "X_train[\"User_Score\"]=X_train[\"User_Score\"].fillna(X_train[\"User_Score\"].median())\n",
    "X_train[\"User_Count\"]=X_train[\"User_Count\"].fillna(X_train[\"User_Count\"].median())\n",
    "X_train[\"NA_Sales\"]=X_train[\"NA_Sales\"].fillna(X_train[\"NA_Sales\"].median())\n",
    "X_train[\"Global_Sales\"]=X_train[\"Global_Sales\"].fillna(X_train[\"Global_Sales\"].median())\n",
    "X_train.Publisher = X_train.Publisher.replace(np.nan, \"Unknown\")\n",
    "\n",
    "\n",
    "#X_train[\"Rating\"]=X_train[\"Rating\"].fillna(X_train[\"Rating\"].median()) A traiter"
   ]
  },
  {
   "cell_type": "code",
   "execution_count": 592,
   "metadata": {},
   "outputs": [
    {
     "data": {
      "text/html": [
       "<div>\n",
       "<style scoped>\n",
       "    .dataframe tbody tr th:only-of-type {\n",
       "        vertical-align: middle;\n",
       "    }\n",
       "\n",
       "    .dataframe tbody tr th {\n",
       "        vertical-align: top;\n",
       "    }\n",
       "\n",
       "    .dataframe thead th {\n",
       "        text-align: right;\n",
       "    }\n",
       "</style>\n",
       "<table border=\"1\" class=\"dataframe\">\n",
       "  <thead>\n",
       "    <tr style=\"text-align: right;\">\n",
       "      <th></th>\n",
       "      <th>Platform</th>\n",
       "      <th>Year_of_Release</th>\n",
       "      <th>Genre</th>\n",
       "      <th>Publisher</th>\n",
       "      <th>JP_Sales</th>\n",
       "      <th>Other_Sales</th>\n",
       "      <th>Critic_Score</th>\n",
       "      <th>Critic_Count</th>\n",
       "      <th>User_Score</th>\n",
       "      <th>User_Count</th>\n",
       "      <th>Developer</th>\n",
       "      <th>Rating</th>\n",
       "      <th>NA_Sales</th>\n",
       "      <th>Global_Sales</th>\n",
       "    </tr>\n",
       "    <tr>\n",
       "      <th>ID</th>\n",
       "      <th></th>\n",
       "      <th></th>\n",
       "      <th></th>\n",
       "      <th></th>\n",
       "      <th></th>\n",
       "      <th></th>\n",
       "      <th></th>\n",
       "      <th></th>\n",
       "      <th></th>\n",
       "      <th></th>\n",
       "      <th></th>\n",
       "      <th></th>\n",
       "      <th></th>\n",
       "      <th></th>\n",
       "    </tr>\n",
       "  </thead>\n",
       "  <tbody>\n",
       "    <tr>\n",
       "      <th>1</th>\n",
       "      <td>4</td>\n",
       "      <td>2004.0</td>\n",
       "      <td>5</td>\n",
       "      <td>226</td>\n",
       "      <td>0.050524</td>\n",
       "      <td>0.010024</td>\n",
       "      <td>74.0</td>\n",
       "      <td>40.0</td>\n",
       "      <td>7.5</td>\n",
       "      <td>13.0</td>\n",
       "      <td>235</td>\n",
       "      <td>E</td>\n",
       "      <td>0.101432</td>\n",
       "      <td>0.172605</td>\n",
       "    </tr>\n",
       "    <tr>\n",
       "      <th>2</th>\n",
       "      <td>4</td>\n",
       "      <td>2010.0</td>\n",
       "      <td>0</td>\n",
       "      <td>331</td>\n",
       "      <td>0.039211</td>\n",
       "      <td>0.001791</td>\n",
       "      <td>71.0</td>\n",
       "      <td>21.0</td>\n",
       "      <td>7.5</td>\n",
       "      <td>25.0</td>\n",
       "      <td>1588</td>\n",
       "      <td>NaN</td>\n",
       "      <td>0.000440</td>\n",
       "      <td>0.043251</td>\n",
       "    </tr>\n",
       "    <tr>\n",
       "      <th>3</th>\n",
       "      <td>4</td>\n",
       "      <td>2006.0</td>\n",
       "      <td>10</td>\n",
       "      <td>461</td>\n",
       "      <td>0.000374</td>\n",
       "      <td>0.001797</td>\n",
       "      <td>71.0</td>\n",
       "      <td>21.0</td>\n",
       "      <td>7.5</td>\n",
       "      <td>25.0</td>\n",
       "      <td>1330</td>\n",
       "      <td>E</td>\n",
       "      <td>0.030829</td>\n",
       "      <td>0.041271</td>\n",
       "    </tr>\n",
       "    <tr>\n",
       "      <th>4</th>\n",
       "      <td>15</td>\n",
       "      <td>2002.0</td>\n",
       "      <td>4</td>\n",
       "      <td>467</td>\n",
       "      <td>0.001382</td>\n",
       "      <td>0.140010</td>\n",
       "      <td>71.0</td>\n",
       "      <td>21.0</td>\n",
       "      <td>6.6</td>\n",
       "      <td>41.0</td>\n",
       "      <td>180</td>\n",
       "      <td>E</td>\n",
       "      <td>0.528330</td>\n",
       "      <td>1.080821</td>\n",
       "    </tr>\n",
       "    <tr>\n",
       "      <th>5</th>\n",
       "      <td>19</td>\n",
       "      <td>2014.0</td>\n",
       "      <td>0</td>\n",
       "      <td>477</td>\n",
       "      <td>0.069422</td>\n",
       "      <td>0.009535</td>\n",
       "      <td>67.0</td>\n",
       "      <td>19.0</td>\n",
       "      <td>7.5</td>\n",
       "      <td>61.0</td>\n",
       "      <td>762</td>\n",
       "      <td>M</td>\n",
       "      <td>0.020629</td>\n",
       "      <td>0.131074</td>\n",
       "    </tr>\n",
       "  </tbody>\n",
       "</table>\n",
       "</div>"
      ],
      "text/plain": [
       "    Platform  Year_of_Release  Genre  Publisher  JP_Sales  Other_Sales  \\\n",
       "ID                                                                       \n",
       "1          4           2004.0      5        226  0.050524     0.010024   \n",
       "2          4           2010.0      0        331  0.039211     0.001791   \n",
       "3          4           2006.0     10        461  0.000374     0.001797   \n",
       "4         15           2002.0      4        467  0.001382     0.140010   \n",
       "5         19           2014.0      0        477  0.069422     0.009535   \n",
       "\n",
       "    Critic_Score  Critic_Count  User_Score  User_Count  Developer Rating  \\\n",
       "ID                                                                         \n",
       "1           74.0          40.0         7.5        13.0        235      E   \n",
       "2           71.0          21.0         7.5        25.0       1588    NaN   \n",
       "3           71.0          21.0         7.5        25.0       1330      E   \n",
       "4           71.0          21.0         6.6        41.0        180      E   \n",
       "5           67.0          19.0         7.5        61.0        762      M   \n",
       "\n",
       "    NA_Sales  Global_Sales  \n",
       "ID                          \n",
       "1   0.101432      0.172605  \n",
       "2   0.000440      0.043251  \n",
       "3   0.030829      0.041271  \n",
       "4   0.528330      1.080821  \n",
       "5   0.020629      0.131074  "
      ]
     },
     "execution_count": 592,
     "metadata": {},
     "output_type": "execute_result"
    }
   ],
   "source": [
    "X_train.head()"
   ]
  },
  {
   "cell_type": "code",
   "execution_count": 593,
   "metadata": {},
   "outputs": [
    {
     "data": {
      "image/png": "[encoded data removed]",
      "text/plain": [
       "<Figure size 432x288 with 1 Axes>"
      ]
     },
     "metadata": {},
     "output_type": "display_data"
    }
   ],
   "source": [
    "# Plot poour voir liens entre les X.i et les y.i\n",
    "\n",
    "\n",
    "\n",
    "plt.scatter(X_train['JP_Sales']**3, X_train['Global_Sales'])\n",
    "plt.show()"
   ]
  },
  {
   "cell_type": "code",
   "execution_count": 594,
   "metadata": {},
   "outputs": [
    {
     "data": {
      "image/png": "[encoded data removed]",
      "text/plain": [
       "<Figure size 432x288 with 1 Axes>"
      ]
     },
     "metadata": {},
     "output_type": "display_data"
    }
   ],
   "source": [
    "plt.scatter(X_train['Year_of_Release'], X_train['Platform'])\n",
    "plt.show()"
   ]
  },
  {
   "cell_type": "code",
   "execution_count": 595,
   "metadata": {},
   "outputs": [
    {
     "data": {
      "image/png": "[encoded data removed]",
      "text/plain": [
       "<Figure size 432x288 with 1 Axes>"
      ]
     },
     "metadata": {},
     "output_type": "display_data"
    }
   ],
   "source": [
    "plt.plot(X_train['Platform'], X_train['NA_Sales'],'ro')\n",
    "plt.show()"
   ]
  },
  {
   "cell_type": "code",
   "execution_count": 596,
   "metadata": {},
   "outputs": [
    {
     "data": {
      "image/png": "[encoded data removed]",
      "text/plain": [
       "<Figure size 432x288 with 1 Axes>"
      ]
     },
     "metadata": {},
     "output_type": "display_data"
    }
   ],
   "source": [
    "plt.scatter(X_train['Year_of_Release'], X_train['NA_Sales'])\n",
    "plt.show()"
   ]
  },
  {
   "cell_type": "code",
   "execution_count": 597,
   "metadata": {},
   "outputs": [],
   "source": [
    "# Clustering entre les NA/Global et le publisher, on obtient 100 clusters différents qui remplacent nos 500 publishers différents\n",
    "\n",
    "NA_means = np.zeros(X_train['Publisher'].unique().shape)\n",
    "Global_means = np.zeros(X_train['Publisher'].unique().shape)\n",
    "P = np.zeros(X_train['Publisher'].unique().shape)\n",
    "compteur = np.zeros(X_train['Publisher'].unique().shape)\n",
    "\n",
    "# On calcule pour chaque publisher, une moyenne des NA_sales et Global_sales qui leurs sont attribués. \n",
    "for i in range(X_train.shape[0]):\n",
    "    indice = X_train.iloc[i,3]\n",
    "    NA_means[indice]=NA_means[indice]+X_train.iloc[i,12]\n",
    "    Global_means[indice]=Global_means[indice]+X_train.iloc[i,13]\n",
    "    compteur[indice]=compteur[indice]+1\n",
    "\n",
    "for i in range(len(NA_means)):\n",
    "    NA_means[i]=NA_means[i]/compteur[i]\n",
    "    Global_means[i]=Global_means[i]/compteur[i]\n",
    "\n",
    "    \n",
    "    \n",
    "# On effectue les Kmeans pour associer à chaque publisher le centroid le plus proche.     \n",
    "    \n",
    "data = np.c_[NA_means,Global_means]\n",
    "X_cluster=pd.DataFrame(data = data, columns = ['NA','Global'])\n",
    "from sklearn.cluster import KMeans\n",
    "kmeans = KMeans(n_clusters=100, random_state=0).fit(X_cluster)"
   ]
  },
  {
   "cell_type": "code",
   "execution_count": 598,
   "metadata": {},
   "outputs": [],
   "source": [
    "# Regression linéaire avec User_Score + Critic. On split les données de X_train, on entraine le modèle et on prédit X_test1.\n",
    "\n",
    "\n",
    "from sklearn.linear_model import LinearRegression\n",
    "from sklearn.model_selection import train_test_split\n",
    "\n",
    "\n",
    "data2 = np.c_[X_train['JP_Sales'],X_train['Other_Sales'], X_train['User_Score']*X_train['User_Count'],X_train['Critic_Score']*X_train['Critic_Count']]\n",
    "target = X_train['NA_Sales']\n",
    "target2 = X_train['Global_Sales']\n",
    "X_train1, X_test1, y_train1, y_test1 = train_test_split(data2, target, test_size=0.33, random_state=10)\n",
    "X_train2, X_test2, y_train2, y_test2 = train_test_split(data2, target2, test_size=0.33, random_state=10)\n",
    "\n",
    "\n",
    "reg_NA = LinearRegression().fit(X_train1, y_train1)\n",
    "reg_Global = LinearRegression().fit(X_train2, y_train2)\n",
    "\n",
    "pred_NA = reg_NA.predict(X_test1)\n",
    "pred_Global = reg_Global.predict(X_test2)"
   ]
  },
  {
   "cell_type": "code",
   "execution_count": 599,
   "metadata": {},
   "outputs": [
    {
     "data": {
      "text/plain": [
       "0.26558647062490587"
      ]
     },
     "execution_count": 599,
     "metadata": {},
     "output_type": "execute_result"
    }
   ],
   "source": [
    "pred_NA.mean()"
   ]
  },
  {
   "cell_type": "code",
   "execution_count": 600,
   "metadata": {},
   "outputs": [
    {
     "name": "stdout",
     "output_type": "stream",
     "text": [
      "Coefficients: \n",
      " [9.50861361e-01 2.18984954e+00 9.26408299e-06 5.27263541e-05]\n",
      "Mean squared error: 0.23\n",
      "Variance score (R2): 0.50\n",
      "Coefficients: \n",
      " [2.37084653e+00 4.69044508e+00 2.28834260e-05 8.19663703e-05]\n",
      "Mean squared error: 0.41\n",
      "Variance score (R2): 0.77\n"
     ]
    }
   ],
   "source": [
    "# On analyse les résultats\n",
    "\n",
    "from sklearn.metrics import mean_squared_error, r2_score\n",
    "\n",
    "\n",
    "print('Coefficients: \\n', reg_NA.coef_)\n",
    "# The mean squared error\n",
    "print(\"Mean squared error: %.2f\"% mean_squared_error(y_test1, pred_NA))\n",
    "# Explained variance score: 1 is perfect prediction\n",
    "print('Variance score (R2): %.2f' % r2_score(y_test1, pred_NA))\n",
    "\n",
    "\n",
    "print('Coefficients: \\n', reg_Global.coef_)\n",
    "# The mean squared error\n",
    "\n",
    "\n",
    "print(\"Mean squared error: %.2f\"% mean_squared_error(y_test2, pred_Global))\n",
    "# Explained variance score: 1 is perfect prediction\n",
    "print('Variance score (R2): %.2f' % r2_score(y_test2, pred_Global))"
   ]
  },
  {
   "cell_type": "code",
   "execution_count": 601,
   "metadata": {},
   "outputs": [],
   "source": [
    "df_test = pd.read_csv(pathTest, sep=',', index_col=0)"
   ]
  },
  {
   "cell_type": "code",
   "execution_count": 602,
   "metadata": {},
   "outputs": [],
   "source": [
    "# On applique le modèle sur les données d'entrainement entières. \n",
    "\n",
    "\n",
    "\n",
    "\n",
    "df_test = df_test.drop(['Platform'],axis = 1)\n",
    "df_test = df_test.drop(['Year_of_Release'],axis = 1)\n",
    "df_test = df_test.drop(['Genre'],axis = 1)\n",
    "df_test = df_test.drop(['Publisher'],axis = 1)\n",
    "#df_test = df_test.drop(['Critic_Score'],axis = 1)\n",
    "#df_test = df_test.drop(['User_Count'],axis = 1)\n",
    "#df_test = df_test.drop(['User_Score'],axis = 1)\n",
    "#df_test = df_test.drop(['Critic_Count'],axis = 1)\n",
    "df_test = df_test.drop(['Developer'],axis = 1)\n",
    "df_test = df_test.drop(['Rating'],axis = 1)"
   ]
  },
  {
   "cell_type": "code",
   "execution_count": 603,
   "metadata": {},
   "outputs": [
    {
     "data": {
      "text/html": [
       "<div>\n",
       "<style scoped>\n",
       "    .dataframe tbody tr th:only-of-type {\n",
       "        vertical-align: middle;\n",
       "    }\n",
       "\n",
       "    .dataframe tbody tr th {\n",
       "        vertical-align: top;\n",
       "    }\n",
       "\n",
       "    .dataframe thead th {\n",
       "        text-align: right;\n",
       "    }\n",
       "</style>\n",
       "<table border=\"1\" class=\"dataframe\">\n",
       "  <thead>\n",
       "    <tr style=\"text-align: right;\">\n",
       "      <th></th>\n",
       "      <th>JP_Sales</th>\n",
       "      <th>Other_Sales</th>\n",
       "      <th>Critic_Score</th>\n",
       "      <th>Critic_Count</th>\n",
       "      <th>User_Score</th>\n",
       "      <th>User_Count</th>\n",
       "    </tr>\n",
       "    <tr>\n",
       "      <th>ID</th>\n",
       "      <th></th>\n",
       "      <th></th>\n",
       "      <th></th>\n",
       "      <th></th>\n",
       "      <th></th>\n",
       "      <th></th>\n",
       "    </tr>\n",
       "  </thead>\n",
       "  <tbody>\n",
       "    <tr>\n",
       "      <th>14095</th>\n",
       "      <td>0.000521</td>\n",
       "      <td>0.000257</td>\n",
       "      <td>24.0</td>\n",
       "      <td>11.0</td>\n",
       "      <td>3.7</td>\n",
       "      <td>10.0</td>\n",
       "    </tr>\n",
       "    <tr>\n",
       "      <th>14096</th>\n",
       "      <td>0.000966</td>\n",
       "      <td>0.020463</td>\n",
       "      <td>72.0</td>\n",
       "      <td>35.0</td>\n",
       "      <td>7.7</td>\n",
       "      <td>27.0</td>\n",
       "    </tr>\n",
       "    <tr>\n",
       "      <th>14097</th>\n",
       "      <td>0.259834</td>\n",
       "      <td>0.048938</td>\n",
       "      <td>NaN</td>\n",
       "      <td>NaN</td>\n",
       "      <td>NaN</td>\n",
       "      <td>NaN</td>\n",
       "    </tr>\n",
       "    <tr>\n",
       "      <th>14098</th>\n",
       "      <td>0.000888</td>\n",
       "      <td>0.008269</td>\n",
       "      <td>81.0</td>\n",
       "      <td>20.0</td>\n",
       "      <td>8.7</td>\n",
       "      <td>43.0</td>\n",
       "    </tr>\n",
       "    <tr>\n",
       "      <th>14099</th>\n",
       "      <td>0.000439</td>\n",
       "      <td>0.038802</td>\n",
       "      <td>63.0</td>\n",
       "      <td>68.0</td>\n",
       "      <td>7.2</td>\n",
       "      <td>201.0</td>\n",
       "    </tr>\n",
       "  </tbody>\n",
       "</table>\n",
       "</div>"
      ],
      "text/plain": [
       "       JP_Sales  Other_Sales  Critic_Score  Critic_Count  User_Score  \\\n",
       "ID                                                                     \n",
       "14095  0.000521     0.000257          24.0          11.0         3.7   \n",
       "14096  0.000966     0.020463          72.0          35.0         7.7   \n",
       "14097  0.259834     0.048938           NaN           NaN         NaN   \n",
       "14098  0.000888     0.008269          81.0          20.0         8.7   \n",
       "14099  0.000439     0.038802          63.0          68.0         7.2   \n",
       "\n",
       "       User_Count  \n",
       "ID                 \n",
       "14095        10.0  \n",
       "14096        27.0  \n",
       "14097         NaN  \n",
       "14098        43.0  \n",
       "14099       201.0  "
      ]
     },
     "execution_count": 603,
     "metadata": {},
     "output_type": "execute_result"
    }
   ],
   "source": [
    "df_test.head()"
   ]
  },
  {
   "cell_type": "code",
   "execution_count": 604,
   "metadata": {},
   "outputs": [],
   "source": [
    "df_test[\"Critic_Score\"]=df_test[\"Critic_Score\"].fillna(df_test[\"Critic_Score\"].median())\n",
    "df_test[\"Critic_Count\"]=df_test[\"Critic_Count\"].fillna(df_test[\"Critic_Count\"].median())\n",
    "df_test[\"User_Score\"]=df_test[\"User_Score\"].fillna(df_test[\"User_Score\"].median())\n",
    "df_test[\"User_Count\"]=df_test[\"User_Count\"].fillna(df_test[\"User_Count\"].median())"
   ]
  },
  {
   "cell_type": "code",
   "execution_count": 605,
   "metadata": {},
   "outputs": [
    {
     "data": {
      "text/html": [
       "<div>\n",
       "<style scoped>\n",
       "    .dataframe tbody tr th:only-of-type {\n",
       "        vertical-align: middle;\n",
       "    }\n",
       "\n",
       "    .dataframe tbody tr th {\n",
       "        vertical-align: top;\n",
       "    }\n",
       "\n",
       "    .dataframe thead th {\n",
       "        text-align: right;\n",
       "    }\n",
       "</style>\n",
       "<table border=\"1\" class=\"dataframe\">\n",
       "  <thead>\n",
       "    <tr style=\"text-align: right;\">\n",
       "      <th></th>\n",
       "      <th>JP_Sales</th>\n",
       "      <th>Other_Sales</th>\n",
       "      <th>Critic_Score</th>\n",
       "      <th>Critic_Count</th>\n",
       "      <th>User_Score</th>\n",
       "      <th>User_Count</th>\n",
       "    </tr>\n",
       "    <tr>\n",
       "      <th>ID</th>\n",
       "      <th></th>\n",
       "      <th></th>\n",
       "      <th></th>\n",
       "      <th></th>\n",
       "      <th></th>\n",
       "      <th></th>\n",
       "    </tr>\n",
       "  </thead>\n",
       "  <tbody>\n",
       "    <tr>\n",
       "      <th>14095</th>\n",
       "      <td>0.000521</td>\n",
       "      <td>0.000257</td>\n",
       "      <td>24.0</td>\n",
       "      <td>11.0</td>\n",
       "      <td>3.7</td>\n",
       "      <td>10.0</td>\n",
       "    </tr>\n",
       "    <tr>\n",
       "      <th>14096</th>\n",
       "      <td>0.000966</td>\n",
       "      <td>0.020463</td>\n",
       "      <td>72.0</td>\n",
       "      <td>35.0</td>\n",
       "      <td>7.7</td>\n",
       "      <td>27.0</td>\n",
       "    </tr>\n",
       "    <tr>\n",
       "      <th>14097</th>\n",
       "      <td>0.259834</td>\n",
       "      <td>0.048938</td>\n",
       "      <td>71.0</td>\n",
       "      <td>22.0</td>\n",
       "      <td>7.5</td>\n",
       "      <td>24.0</td>\n",
       "    </tr>\n",
       "    <tr>\n",
       "      <th>14098</th>\n",
       "      <td>0.000888</td>\n",
       "      <td>0.008269</td>\n",
       "      <td>81.0</td>\n",
       "      <td>20.0</td>\n",
       "      <td>8.7</td>\n",
       "      <td>43.0</td>\n",
       "    </tr>\n",
       "    <tr>\n",
       "      <th>14099</th>\n",
       "      <td>0.000439</td>\n",
       "      <td>0.038802</td>\n",
       "      <td>63.0</td>\n",
       "      <td>68.0</td>\n",
       "      <td>7.2</td>\n",
       "      <td>201.0</td>\n",
       "    </tr>\n",
       "  </tbody>\n",
       "</table>\n",
       "</div>"
      ],
      "text/plain": [
       "       JP_Sales  Other_Sales  Critic_Score  Critic_Count  User_Score  \\\n",
       "ID                                                                     \n",
       "14095  0.000521     0.000257          24.0          11.0         3.7   \n",
       "14096  0.000966     0.020463          72.0          35.0         7.7   \n",
       "14097  0.259834     0.048938          71.0          22.0         7.5   \n",
       "14098  0.000888     0.008269          81.0          20.0         8.7   \n",
       "14099  0.000439     0.038802          63.0          68.0         7.2   \n",
       "\n",
       "       User_Count  \n",
       "ID                 \n",
       "14095        10.0  \n",
       "14096        27.0  \n",
       "14097        24.0  \n",
       "14098        43.0  \n",
       "14099       201.0  "
      ]
     },
     "execution_count": 605,
     "metadata": {},
     "output_type": "execute_result"
    }
   ],
   "source": [
    "df_test.head()"
   ]
  },
  {
   "cell_type": "code",
   "execution_count": 606,
   "metadata": {},
   "outputs": [],
   "source": [
    "reg_NA = LinearRegression().fit(data2, target)\n",
    "data_test_Reg = np.c_[df_test['JP_Sales'],df_test['Other_Sales'], df_test['User_Score']*df_test['User_Count'],df_test['Critic_Score']*df_test['Critic_Count'] ]\n",
    "pred_NA = pd.DataFrame(data = reg_NA.predict(data_test_Reg), columns =['NA_Sales'])"
   ]
  },
  {
   "cell_type": "code",
   "execution_count": 607,
   "metadata": {},
   "outputs": [],
   "source": [
    "reg_Global = LinearRegression().fit(data2, target2)\n",
    "pred_Global = pd.DataFrame(data = reg_Global.predict(data_test_Reg), columns =['Global_Sales'])"
   ]
  },
  {
   "cell_type": "code",
   "execution_count": 608,
   "metadata": {},
   "outputs": [],
   "source": [
    "ID = np.zeros(2490)\n",
    "for i in range(2490):\n",
    "    ID[i]=int(i+14095)"
   ]
  },
  {
   "cell_type": "code",
   "execution_count": 609,
   "metadata": {},
   "outputs": [],
   "source": [
    "Y_final['ID']=ID\n",
    "Y_final['ID'] = Y_final['ID'].astype(int)\n",
    "Y_final['NA_Sales'] = pred_NA\n",
    "Y_final['Global_Sales'] = pred_Global"
   ]
  },
  {
   "cell_type": "code",
   "execution_count": 616,
   "metadata": {},
   "outputs": [
    {
     "name": "stdout",
     "output_type": "stream",
     "text": [
      "0.27663188512065834\n",
      "0.5642201949377034\n"
     ]
    }
   ],
   "source": [
    "print(Y_final['NA_Sales'].mean())\n",
    "print(Y_final['Global_Sales'].mean())"
   ]
  },
  {
   "cell_type": "code",
   "execution_count": 611,
   "metadata": {},
   "outputs": [],
   "source": [
    "Y_final = Y_final[['ID', 'NA_Sales', 'Global_Sales']]"
   ]
  },
  {
   "cell_type": "code",
   "execution_count": 612,
   "metadata": {},
   "outputs": [],
   "source": [
    "Y_final.to_csv('pred_3301.csv', encoding='utf-8', index=False)"
   ]
  },
  {
   "cell_type": "code",
   "execution_count": null,
   "metadata": {},
   "outputs": [],
   "source": []
  },
  {
   "cell_type": "code",
   "execution_count": null,
   "metadata": {},
   "outputs": [],
   "source": []
  },
  {
   "cell_type": "code",
   "execution_count": null,
   "metadata": {},
   "outputs": [],
   "source": []
  },
  {
   "cell_type": "code",
   "execution_count": null,
   "metadata": {},
   "outputs": [],
   "source": [
    "\n",
    "    "
   ]
  },
  {
   "cell_type": "code",
   "execution_count": null,
   "metadata": {},
   "outputs": [],
   "source": []
  },
  {
   "cell_type": "code",
   "execution_count": null,
   "metadata": {},
   "outputs": [],
   "source": []
  },
  {
   "cell_type": "code",
   "execution_count": null,
   "metadata": {},
   "outputs": [],
   "source": []
  }
 ],
 "metadata": {
  "kernelspec": {
   "display_name": "Python 3",
   "language": "python",
   "name": "python3"
  },
  "language_info": {
   "codemirror_mode": {
    "name": "ipython",
    "version": 3
   },
   "file_extension": ".py",
   "mimetype": "text/x-python",
   "name": "python",
   "nbconvert_exporter": "python",
   "pygments_lexer": "ipython3",
   "version": "3.6.5"
  }
 },
 "nbformat": 4,
 "nbformat_minor": 2
}
